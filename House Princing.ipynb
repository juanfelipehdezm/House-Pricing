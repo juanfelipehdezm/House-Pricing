{
 "cells": [
  {
   "cell_type": "code",
   "execution_count": 166,
   "metadata": {},
   "outputs": [
    {
     "output_type": "execute_result",
     "data": {
      "text/plain": [
       "{'divide': 'ignore', 'over': 'warn', 'under': 'ignore', 'invalid': 'ignore'}"
      ]
     },
     "metadata": {},
     "execution_count": 166
    }
   ],
   "source": [
    "import pandas as pd\n",
    "import matplotlib.pyplot as plt\n",
    "import seaborn as sns\n",
    "import numpy as np\n",
    "import scipy as sc\n",
    "\n",
    "np.seterr(divide='ignore', invalid='ignore')"
   ]
  },
  {
   "cell_type": "code",
   "execution_count": 167,
   "metadata": {},
   "outputs": [],
   "source": [
    "train_house = pd.read_csv(\"train.csv\")\n",
    "test_house = pd.read_csv(\"test.csv\")"
   ]
  },
  {
   "cell_type": "markdown",
   "metadata": {},
   "source": [
    "In previous projects I cleaned the two datasets separately, this time I will do it both together\n"
   ]
  },
  {
   "cell_type": "code",
   "execution_count": 168,
   "metadata": {},
   "outputs": [
    {
     "output_type": "execute_result",
     "data": {
      "text/plain": [
       "        Id  MSSubClass MSZoning  LotFrontage  LotArea Street Alley LotShape  \\\n",
       "0        1          60       RL         65.0     8450   Pave   NaN      Reg   \n",
       "1        2          20       RL         80.0     9600   Pave   NaN      Reg   \n",
       "2        3          60       RL         68.0    11250   Pave   NaN      IR1   \n",
       "3        4          70       RL         60.0     9550   Pave   NaN      IR1   \n",
       "4        5          60       RL         84.0    14260   Pave   NaN      IR1   \n",
       "...    ...         ...      ...          ...      ...    ...   ...      ...   \n",
       "1455  1456          60       RL         62.0     7917   Pave   NaN      Reg   \n",
       "1456  1457          20       RL         85.0    13175   Pave   NaN      Reg   \n",
       "1457  1458          70       RL         66.0     9042   Pave   NaN      Reg   \n",
       "1458  1459          20       RL         68.0     9717   Pave   NaN      Reg   \n",
       "1459  1460          20       RL         75.0     9937   Pave   NaN      Reg   \n",
       "\n",
       "     LandContour Utilities  ... PoolArea PoolQC  Fence MiscFeature MiscVal  \\\n",
       "0            Lvl    AllPub  ...        0    NaN    NaN         NaN       0   \n",
       "1            Lvl    AllPub  ...        0    NaN    NaN         NaN       0   \n",
       "2            Lvl    AllPub  ...        0    NaN    NaN         NaN       0   \n",
       "3            Lvl    AllPub  ...        0    NaN    NaN         NaN       0   \n",
       "4            Lvl    AllPub  ...        0    NaN    NaN         NaN       0   \n",
       "...          ...       ...  ...      ...    ...    ...         ...     ...   \n",
       "1455         Lvl    AllPub  ...        0    NaN    NaN         NaN       0   \n",
       "1456         Lvl    AllPub  ...        0    NaN  MnPrv         NaN       0   \n",
       "1457         Lvl    AllPub  ...        0    NaN  GdPrv        Shed    2500   \n",
       "1458         Lvl    AllPub  ...        0    NaN    NaN         NaN       0   \n",
       "1459         Lvl    AllPub  ...        0    NaN    NaN         NaN       0   \n",
       "\n",
       "     MoSold YrSold  SaleType  SaleCondition  SalePrice  \n",
       "0         2   2008        WD         Normal     208500  \n",
       "1         5   2007        WD         Normal     181500  \n",
       "2         9   2008        WD         Normal     223500  \n",
       "3         2   2006        WD        Abnorml     140000  \n",
       "4        12   2008        WD         Normal     250000  \n",
       "...     ...    ...       ...            ...        ...  \n",
       "1455      8   2007        WD         Normal     175000  \n",
       "1456      2   2010        WD         Normal     210000  \n",
       "1457      5   2010        WD         Normal     266500  \n",
       "1458      4   2010        WD         Normal     142125  \n",
       "1459      6   2008        WD         Normal     147500  \n",
       "\n",
       "[1460 rows x 81 columns]"
      ],
      "text/html": "<div>\n<style scoped>\n    .dataframe tbody tr th:only-of-type {\n        vertical-align: middle;\n    }\n\n    .dataframe tbody tr th {\n        vertical-align: top;\n    }\n\n    .dataframe thead th {\n        text-align: right;\n    }\n</style>\n<table border=\"1\" class=\"dataframe\">\n  <thead>\n    <tr style=\"text-align: right;\">\n      <th></th>\n      <th>Id</th>\n      <th>MSSubClass</th>\n      <th>MSZoning</th>\n      <th>LotFrontage</th>\n      <th>LotArea</th>\n      <th>Street</th>\n      <th>Alley</th>\n      <th>LotShape</th>\n      <th>LandContour</th>\n      <th>Utilities</th>\n      <th>...</th>\n      <th>PoolArea</th>\n      <th>PoolQC</th>\n      <th>Fence</th>\n      <th>MiscFeature</th>\n      <th>MiscVal</th>\n      <th>MoSold</th>\n      <th>YrSold</th>\n      <th>SaleType</th>\n      <th>SaleCondition</th>\n      <th>SalePrice</th>\n    </tr>\n  </thead>\n  <tbody>\n    <tr>\n      <th>0</th>\n      <td>1</td>\n      <td>60</td>\n      <td>RL</td>\n      <td>65.0</td>\n      <td>8450</td>\n      <td>Pave</td>\n      <td>NaN</td>\n      <td>Reg</td>\n      <td>Lvl</td>\n      <td>AllPub</td>\n      <td>...</td>\n      <td>0</td>\n      <td>NaN</td>\n      <td>NaN</td>\n      <td>NaN</td>\n      <td>0</td>\n      <td>2</td>\n      <td>2008</td>\n      <td>WD</td>\n      <td>Normal</td>\n      <td>208500</td>\n    </tr>\n    <tr>\n      <th>1</th>\n      <td>2</td>\n      <td>20</td>\n      <td>RL</td>\n      <td>80.0</td>\n      <td>9600</td>\n      <td>Pave</td>\n      <td>NaN</td>\n      <td>Reg</td>\n      <td>Lvl</td>\n      <td>AllPub</td>\n      <td>...</td>\n      <td>0</td>\n      <td>NaN</td>\n      <td>NaN</td>\n      <td>NaN</td>\n      <td>0</td>\n      <td>5</td>\n      <td>2007</td>\n      <td>WD</td>\n      <td>Normal</td>\n      <td>181500</td>\n    </tr>\n    <tr>\n      <th>2</th>\n      <td>3</td>\n      <td>60</td>\n      <td>RL</td>\n      <td>68.0</td>\n      <td>11250</td>\n      <td>Pave</td>\n      <td>NaN</td>\n      <td>IR1</td>\n      <td>Lvl</td>\n      <td>AllPub</td>\n      <td>...</td>\n      <td>0</td>\n      <td>NaN</td>\n      <td>NaN</td>\n      <td>NaN</td>\n      <td>0</td>\n      <td>9</td>\n      <td>2008</td>\n      <td>WD</td>\n      <td>Normal</td>\n      <td>223500</td>\n    </tr>\n    <tr>\n      <th>3</th>\n      <td>4</td>\n      <td>70</td>\n      <td>RL</td>\n      <td>60.0</td>\n      <td>9550</td>\n      <td>Pave</td>\n      <td>NaN</td>\n      <td>IR1</td>\n      <td>Lvl</td>\n      <td>AllPub</td>\n      <td>...</td>\n      <td>0</td>\n      <td>NaN</td>\n      <td>NaN</td>\n      <td>NaN</td>\n      <td>0</td>\n      <td>2</td>\n      <td>2006</td>\n      <td>WD</td>\n      <td>Abnorml</td>\n      <td>140000</td>\n    </tr>\n    <tr>\n      <th>4</th>\n      <td>5</td>\n      <td>60</td>\n      <td>RL</td>\n      <td>84.0</td>\n      <td>14260</td>\n      <td>Pave</td>\n      <td>NaN</td>\n      <td>IR1</td>\n      <td>Lvl</td>\n      <td>AllPub</td>\n      <td>...</td>\n      <td>0</td>\n      <td>NaN</td>\n      <td>NaN</td>\n      <td>NaN</td>\n      <td>0</td>\n      <td>12</td>\n      <td>2008</td>\n      <td>WD</td>\n      <td>Normal</td>\n      <td>250000</td>\n    </tr>\n    <tr>\n      <th>...</th>\n      <td>...</td>\n      <td>...</td>\n      <td>...</td>\n      <td>...</td>\n      <td>...</td>\n      <td>...</td>\n      <td>...</td>\n      <td>...</td>\n      <td>...</td>\n      <td>...</td>\n      <td>...</td>\n      <td>...</td>\n      <td>...</td>\n      <td>...</td>\n      <td>...</td>\n      <td>...</td>\n      <td>...</td>\n      <td>...</td>\n      <td>...</td>\n      <td>...</td>\n      <td>...</td>\n    </tr>\n    <tr>\n      <th>1455</th>\n      <td>1456</td>\n      <td>60</td>\n      <td>RL</td>\n      <td>62.0</td>\n      <td>7917</td>\n      <td>Pave</td>\n      <td>NaN</td>\n      <td>Reg</td>\n      <td>Lvl</td>\n      <td>AllPub</td>\n      <td>...</td>\n      <td>0</td>\n      <td>NaN</td>\n      <td>NaN</td>\n      <td>NaN</td>\n      <td>0</td>\n      <td>8</td>\n      <td>2007</td>\n      <td>WD</td>\n      <td>Normal</td>\n      <td>175000</td>\n    </tr>\n    <tr>\n      <th>1456</th>\n      <td>1457</td>\n      <td>20</td>\n      <td>RL</td>\n      <td>85.0</td>\n      <td>13175</td>\n      <td>Pave</td>\n      <td>NaN</td>\n      <td>Reg</td>\n      <td>Lvl</td>\n      <td>AllPub</td>\n      <td>...</td>\n      <td>0</td>\n      <td>NaN</td>\n      <td>MnPrv</td>\n      <td>NaN</td>\n      <td>0</td>\n      <td>2</td>\n      <td>2010</td>\n      <td>WD</td>\n      <td>Normal</td>\n      <td>210000</td>\n    </tr>\n    <tr>\n      <th>1457</th>\n      <td>1458</td>\n      <td>70</td>\n      <td>RL</td>\n      <td>66.0</td>\n      <td>9042</td>\n      <td>Pave</td>\n      <td>NaN</td>\n      <td>Reg</td>\n      <td>Lvl</td>\n      <td>AllPub</td>\n      <td>...</td>\n      <td>0</td>\n      <td>NaN</td>\n      <td>GdPrv</td>\n      <td>Shed</td>\n      <td>2500</td>\n      <td>5</td>\n      <td>2010</td>\n      <td>WD</td>\n      <td>Normal</td>\n      <td>266500</td>\n    </tr>\n    <tr>\n      <th>1458</th>\n      <td>1459</td>\n      <td>20</td>\n      <td>RL</td>\n      <td>68.0</td>\n      <td>9717</td>\n      <td>Pave</td>\n      <td>NaN</td>\n      <td>Reg</td>\n      <td>Lvl</td>\n      <td>AllPub</td>\n      <td>...</td>\n      <td>0</td>\n      <td>NaN</td>\n      <td>NaN</td>\n      <td>NaN</td>\n      <td>0</td>\n      <td>4</td>\n      <td>2010</td>\n      <td>WD</td>\n      <td>Normal</td>\n      <td>142125</td>\n    </tr>\n    <tr>\n      <th>1459</th>\n      <td>1460</td>\n      <td>20</td>\n      <td>RL</td>\n      <td>75.0</td>\n      <td>9937</td>\n      <td>Pave</td>\n      <td>NaN</td>\n      <td>Reg</td>\n      <td>Lvl</td>\n      <td>AllPub</td>\n      <td>...</td>\n      <td>0</td>\n      <td>NaN</td>\n      <td>NaN</td>\n      <td>NaN</td>\n      <td>0</td>\n      <td>6</td>\n      <td>2008</td>\n      <td>WD</td>\n      <td>Normal</td>\n      <td>147500</td>\n    </tr>\n  </tbody>\n</table>\n<p>1460 rows × 81 columns</p>\n</div>"
     },
     "metadata": {},
     "execution_count": 168
    }
   ],
   "source": [
    "train_house"
   ]
  },
  {
   "cell_type": "code",
   "execution_count": 169,
   "metadata": {},
   "outputs": [],
   "source": [
    "#display(train_house.info())"
   ]
  },
  {
   "cell_type": "markdown",
   "metadata": {},
   "source": [
    "### 1. Dealing with missing data\n",
    "\n",
    "For numerical data, I will fill with np.mean()\n",
    "For object data I will fill with \"pad\" which propagate the last valid. Then I will pass it to category type (\"pad\" = \"ffill\")\n",
    "\n",
    "For the test_house, I will use a different approach"
   ]
  },
  {
   "cell_type": "markdown",
   "metadata": {},
   "source": [
    "#### 1.1 Cleaning Train data set"
   ]
  },
  {
   "cell_type": "code",
   "execution_count": 170,
   "metadata": {},
   "outputs": [],
   "source": [
    "train_house = train_house.fillna({\"LotFrontage\":np.mean(train_house.LotFrontage)})\n",
    "assert train_house[\"LotFrontage\"].isna().sum() == 0"
   ]
  },
  {
   "cell_type": "code",
   "execution_count": 171,
   "metadata": {},
   "outputs": [],
   "source": [
    "#For the Alley, the Nan indicates the absence of it, so it's not a missing value but let's replace it with something different\n",
    "train_house = train_house.fillna({\"Alley\":\"None\"})\n",
    "assert train_house[\"Alley\"].isna().sum() == 0"
   ]
  },
  {
   "cell_type": "code",
   "execution_count": 172,
   "metadata": {},
   "outputs": [],
   "source": [
    "train_house[\"MasVnrType\"].fillna(method = \"pad\",inplace = True)\n",
    "train_house = train_house.fillna({\"MasVnrArea\":np.mean(train_house.MasVnrArea)})\n",
    "assert train_house[\"MasVnrType\"].isna().sum() == 0"
   ]
  },
  {
   "cell_type": "code",
   "execution_count": 173,
   "metadata": {},
   "outputs": [],
   "source": [
    "cols_to_fill = [\"BsmtQual\",\"BsmtCond\",\"BsmtExposure\",\"BsmtFinType1\",\"BsmtFinType2\"]\n",
    "for col in cols_to_fill:\n",
    "    train_house = train_house.fillna({col:\"None\"})\n",
    "    \n",
    "train_house[\"Electrical\"].fillna(method = \"pad\", inplace = True)"
   ]
  },
  {
   "cell_type": "code",
   "execution_count": 174,
   "metadata": {},
   "outputs": [],
   "source": [
    "#The missing vaules in the \"FireplaceQu\" represents that there is not fire place. \n",
    "train_house = train_house.fillna({\"FireplaceQu\":\"None\"})\n",
    "assert train_house[\"FireplaceQu\"].isna().sum() == 0"
   ]
  },
  {
   "cell_type": "code",
   "execution_count": 175,
   "metadata": {},
   "outputs": [],
   "source": [
    "cols_to_fill_2 = [\"GarageType\",\"GarageFinish\",\"GarageQual\",\"GarageCond\"]\n",
    "for cols_2 in cols_to_fill_2:\n",
    "    train_house = train_house.fillna({cols_2:\"None\"})\n",
    "    \n",
    "#GarageYrBlt is a particular case bc the missing values represent No Garage\n",
    "train_house = train_house.fillna({\"GarageYrBlt\":0})"
   ]
  },
  {
   "cell_type": "code",
   "execution_count": 176,
   "metadata": {},
   "outputs": [],
   "source": [
    "train_house = train_house.fillna({\"PoolQC\":\"None\"})\n",
    "train_house = train_house.fillna({\"Fence\":\"None\"})\n",
    "train_house = train_house.fillna({\"MiscFeature\":\"None\"})"
   ]
  },
  {
   "cell_type": "code",
   "execution_count": 177,
   "metadata": {},
   "outputs": [],
   "source": [
    "#train_house.info() # No missing values"
   ]
  },
  {
   "cell_type": "code",
   "execution_count": 178,
   "metadata": {},
   "outputs": [
    {
     "output_type": "stream",
     "name": "stdout",
     "text": [
      "(1460, 81)\n"
     ]
    }
   ],
   "source": [
    "print(train_house.shape)"
   ]
  },
  {
   "cell_type": "markdown",
   "metadata": {},
   "source": [
    "#### 1.2 Cleaning Test data set"
   ]
  },
  {
   "cell_type": "code",
   "execution_count": 179,
   "metadata": {},
   "outputs": [],
   "source": [
    "test_house\n",
    "test_house_to_change = test_house.copy()"
   ]
  },
  {
   "cell_type": "code",
   "execution_count": 180,
   "metadata": {},
   "outputs": [],
   "source": [
    "#test_house.info() #There has to be 1459"
   ]
  },
  {
   "cell_type": "code",
   "execution_count": 181,
   "metadata": {},
   "outputs": [],
   "source": [
    "test_house_to_change[\"MSZoning\"].fillna(method = \"pad\", inplace = True)"
   ]
  },
  {
   "cell_type": "code",
   "execution_count": 182,
   "metadata": {},
   "outputs": [],
   "source": [
    "test_house_to_change = test_house_to_change.fillna({\"LotFrontage\":np.mean(test_house.LotFrontage)})"
   ]
  },
  {
   "cell_type": "code",
   "execution_count": 183,
   "metadata": {},
   "outputs": [],
   "source": [
    "#Lets fill all those NaN that are actually not missing values but they are the absences of... \n",
    "to_none = [\"Alley\",\"BsmtQual\",\"BsmtCond\",\"BsmtExposure\",\"BsmtFinType1\",\"BsmtFinType2\",\"FireplaceQu\"\n",
    "           ,\"GarageType\",\"GarageFinish\",\"GarageQual\",\"GarageCond\",\"PoolQC\",\"Fence\",\"MiscFeature\"]\n",
    "for _ in to_none:\n",
    "    test_house_to_change = test_house_to_change.fillna({_:\"None\"})\n",
    "    "
   ]
  },
  {
   "cell_type": "code",
   "execution_count": 184,
   "metadata": {},
   "outputs": [],
   "source": [
    "test_house_to_change = test_house_to_change.fillna({\"GarageYrBlt\":0})"
   ]
  },
  {
   "cell_type": "code",
   "execution_count": 185,
   "metadata": {},
   "outputs": [],
   "source": [
    "#the reamings one even if they are numerical lets just \"ffill\" them\n",
    "test_house_to_change.fillna(method = \"ffill\", inplace = True)"
   ]
  },
  {
   "cell_type": "code",
   "execution_count": 186,
   "metadata": {},
   "outputs": [],
   "source": [
    "#test_house.info() #No more missing values."
   ]
  },
  {
   "cell_type": "code",
   "execution_count": 187,
   "metadata": {},
   "outputs": [
    {
     "output_type": "stream",
     "name": "stdout",
     "text": [
      "(1459, 80)\n"
     ]
    }
   ],
   "source": [
    "print(test_house_to_change.shape)"
   ]
  },
  {
   "cell_type": "code",
   "execution_count": 188,
   "metadata": {},
   "outputs": [
    {
     "output_type": "stream",
     "name": "stdout",
     "text": [
      "(1460, 80)\n(1459, 79)\n"
     ]
    }
   ],
   "source": [
    "del(train_house[\"Id\"])\n",
    "del(test_house_to_change[\"Id\"])\n",
    "print(train_house.shape)\n",
    "print(test_house_to_change.shape)"
   ]
  },
  {
   "cell_type": "code",
   "execution_count": 189,
   "metadata": {},
   "outputs": [],
   "source": [
    "#I dont like to manipulate the originals dataframes\n",
    "train_house_copy = train_house.copy()\n",
    "test_house_copy = test_house_to_change.copy()"
   ]
  },
  {
   "cell_type": "code",
   "execution_count": 190,
   "metadata": {},
   "outputs": [
    {
     "output_type": "execute_result",
     "data": {
      "text/plain": [
       "(1460, 303)"
      ]
     },
     "metadata": {},
     "execution_count": 190
    }
   ],
   "source": [
    "house_train_du = pd.get_dummies(train_house_copy)\n",
    "house_train_du.shape"
   ]
  },
  {
   "cell_type": "code",
   "execution_count": 191,
   "metadata": {},
   "outputs": [
    {
     "output_type": "execute_result",
     "data": {
      "text/plain": [
       "(1459, 284)"
      ]
     },
     "metadata": {},
     "execution_count": 191
    }
   ],
   "source": [
    "house_set_du = pd.get_dummies(test_house_copy)\n",
    "house_set_du.shape"
   ]
  },
  {
   "cell_type": "markdown",
   "metadata": {},
   "source": [
    "### 2. Feature Selection   "
   ]
  },
  {
   "cell_type": "code",
   "execution_count": 192,
   "metadata": {},
   "outputs": [],
   "source": [
    "from sklearn.model_selection import train_test_split\n",
    "from sklearn.feature_selection import SelectKBest\n",
    "from sklearn.feature_selection import f_regression"
   ]
  },
  {
   "cell_type": "code",
   "execution_count": 193,
   "metadata": {},
   "outputs": [],
   "source": [
    "SEED = 42"
   ]
  },
  {
   "cell_type": "code",
   "execution_count": 194,
   "metadata": {},
   "outputs": [],
   "source": [
    "y = house_train_du[\"SalePrice\"].values\n",
    "X = house_train_du.drop(\"SalePrice\",axis = 1).values"
   ]
  },
  {
   "cell_type": "code",
   "execution_count": 195,
   "metadata": {},
   "outputs": [],
   "source": [
    "X_train, X_test, y_train, y_test = train_test_split(X, y, test_size = 0.30, random_state = SEED)"
   ]
  },
  {
   "cell_type": "code",
   "execution_count": 196,
   "metadata": {},
   "outputs": [
    {
     "output_type": "display_data",
     "data": {
      "text/plain": "<Figure size 1080x432 with 1 Axes>",
      "image/svg+xml": "<?xml version=\"1.0\" encoding=\"utf-8\" standalone=\"no\"?>\r\n<!DOCTYPE svg PUBLIC \"-//W3C//DTD SVG 1.1//EN\"\r\n  \"http://www.w3.org/Graphics/SVG/1.1/DTD/svg11.dtd\">\r\n<!-- Created with matplotlib (https://matplotlib.org/) -->\r\n<svg height=\"370.91625pt\" version=\"1.1\" viewBox=\"0 0 897.80625 370.91625\" width=\"897.80625pt\" xmlns=\"http://www.w3.org/2000/svg\" xmlns:xlink=\"http://www.w3.org/1999/xlink\">\r\n <metadata>\r\n  <rdf:RDF xmlns:cc=\"http://creativecommons.org/ns#\" xmlns:dc=\"http://purl.org/dc/elements/1.1/\" xmlns:rdf=\"http://www.w3.org/1999/02/22-rdf-syntax-ns#\">\r\n   <cc:Work>\r\n    <dc:type rdf:resource=\"http://purl.org/dc/dcmitype/StillImage\"/>\r\n    <dc:date>2021-02-06T15:48:53.140381</dc:date>\r\n    <dc:format>image/svg+xml</dc:format>\r\n    <dc:creator>\r\n     <cc:Agent>\r\n      <dc:title>Matplotlib v3.3.2, https://matplotlib.org/</dc:title>\r\n     </cc:Agent>\r\n    </dc:creator>\r\n   </cc:Work>\r\n  </rdf:RDF>\r\n </metadata>\r\n <defs>\r\n  <style type=\"text/css\">*{stroke-linecap:butt;stroke-linejoin:round;}</style>\r\n </defs>\r\n <g id=\"figure_1\">\r\n  <g id=\"patch_1\">\r\n   <path d=\"M 0 370.91625 \r\nL 897.80625 370.91625 \r\nL 897.80625 0 \r\nL 0 0 \r\nz\r\n\" style=\"fill:none;\"/>\r\n  </g>\r\n  <g id=\"axes_1\">\r\n   <g id=\"patch_2\">\r\n    <path d=\"M 53.60625 333.36 \r\nL 890.60625 333.36 \r\nL 890.60625 7.2 \r\nL 53.60625 7.2 \r\nz\r\n\" style=\"fill:#ffffff;\"/>\r\n   </g>\r\n   <g id=\"patch_3\">\r\n    <path clip-path=\"url(#p7e730956e7)\" d=\"M 91.651705 333.36 \r\nL 93.668694 333.36 \r\nL 93.668694 331.628528 \r\nL 91.651705 331.628528 \r\nz\r\n\" style=\"fill:#1f77b4;\"/>\r\n   </g>\r\n   <g id=\"patch_4\">\r\n    <path clip-path=\"url(#p7e730956e7)\" d=\"M 94.172941 333.36 \r\nL 96.18993 333.36 \r\nL 96.18993 311.183435 \r\nL 94.172941 311.183435 \r\nz\r\n\" style=\"fill:#1f77b4;\"/>\r\n   </g>\r\n   <g id=\"patch_5\">\r\n    <path clip-path=\"url(#p7e730956e7)\" d=\"M 96.694177 333.36 \r\nL 98.711166 333.36 \r\nL 98.711166 318.970073 \r\nL 96.694177 318.970073 \r\nz\r\n\" style=\"fill:#1f77b4;\"/>\r\n   </g>\r\n   <g id=\"patch_6\">\r\n    <path clip-path=\"url(#p7e730956e7)\" d=\"M 99.215413 333.36 \r\nL 101.232402 333.36 \r\nL 101.232402 22.731429 \r\nL 99.215413 22.731429 \r\nz\r\n\" style=\"fill:#1f77b4;\"/>\r\n   </g>\r\n   <g id=\"patch_7\">\r\n    <path clip-path=\"url(#p7e730956e7)\" d=\"M 101.736649 333.36 \r\nL 103.753638 333.36 \r\nL 103.753638 332.365179 \r\nL 101.736649 332.365179 \r\nz\r\n\" style=\"fill:#1f77b4;\"/>\r\n   </g>\r\n   <g id=\"patch_8\">\r\n    <path clip-path=\"url(#p7e730956e7)\" d=\"M 104.257886 333.36 \r\nL 106.274875 333.36 \r\nL 106.274875 264.426888 \r\nL 104.257886 264.426888 \r\nz\r\n\" style=\"fill:#1f77b4;\"/>\r\n   </g>\r\n   <g id=\"patch_9\">\r\n    <path clip-path=\"url(#p7e730956e7)\" d=\"M 106.779122 333.36 \r\nL 108.796111 333.36 \r\nL 108.796111 264.432918 \r\nL 106.779122 264.432918 \r\nz\r\n\" style=\"fill:#1f77b4;\"/>\r\n   </g>\r\n   <g id=\"patch_10\">\r\n    <path clip-path=\"url(#p7e730956e7)\" d=\"M 109.300358 333.36 \r\nL 111.317347 333.36 \r\nL 111.317347 282.948539 \r\nL 109.300358 282.948539 \r\nz\r\n\" style=\"fill:#1f77b4;\"/>\r\n   </g>\r\n   <g id=\"patch_11\">\r\n    <path clip-path=\"url(#p7e730956e7)\" d=\"M 111.821594 333.36 \r\nL 113.838583 333.36 \r\nL 113.838583 304.398479 \r\nL 111.821594 304.398479 \r\nz\r\n\" style=\"fill:#1f77b4;\"/>\r\n   </g>\r\n   <g id=\"patch_12\">\r\n    <path clip-path=\"url(#p7e730956e7)\" d=\"M 114.342831 333.36 \r\nL 116.359819 333.36 \r\nL 116.359819 333.341895 \r\nL 114.342831 333.341895 \r\nz\r\n\" style=\"fill:#1f77b4;\"/>\r\n   </g>\r\n   <g id=\"patch_13\">\r\n    <path clip-path=\"url(#p7e730956e7)\" d=\"M 116.864067 333.36 \r\nL 118.881056 333.36 \r\nL 118.881056 323.18668 \r\nL 116.864067 323.18668 \r\nz\r\n\" style=\"fill:#1f77b4;\"/>\r\n   </g>\r\n   <g id=\"patch_14\">\r\n    <path clip-path=\"url(#p7e730956e7)\" d=\"M 119.385303 333.36 \r\nL 121.402292 333.36 \r\nL 121.402292 229.858139 \r\nL 119.385303 229.858139 \r\nz\r\n\" style=\"fill:#1f77b4;\"/>\r\n   </g>\r\n   <g id=\"patch_15\">\r\n    <path clip-path=\"url(#p7e730956e7)\" d=\"M 121.906539 333.36 \r\nL 123.923528 333.36 \r\nL 123.923528 233.497355 \r\nL 121.906539 233.497355 \r\nz\r\n\" style=\"fill:#1f77b4;\"/>\r\n   </g>\r\n   <g id=\"patch_16\">\r\n    <path clip-path=\"url(#p7e730956e7)\" d=\"M 124.427775 333.36 \r\nL 126.444764 333.36 \r\nL 126.444764 312.024798 \r\nL 124.427775 312.024798 \r\nz\r\n\" style=\"fill:#1f77b4;\"/>\r\n   </g>\r\n   <g id=\"patch_17\">\r\n    <path clip-path=\"url(#p7e730956e7)\" d=\"M 126.949012 333.36 \r\nL 128.966001 333.36 \r\nL 128.966001 333.359061 \r\nL 126.949012 333.359061 \r\nz\r\n\" style=\"fill:#1f77b4;\"/>\r\n   </g>\r\n   <g id=\"patch_18\">\r\n    <path clip-path=\"url(#p7e730956e7)\" d=\"M 129.470248 333.36 \r\nL 131.487237 333.36 \r\nL 131.487237 157.970112 \r\nL 129.470248 157.970112 \r\nz\r\n\" style=\"fill:#1f77b4;\"/>\r\n   </g>\r\n   <g id=\"patch_19\">\r\n    <path clip-path=\"url(#p7e730956e7)\" d=\"M 131.991484 333.36 \r\nL 134.008473 333.36 \r\nL 134.008473 322.699715 \r\nL 131.991484 322.699715 \r\nz\r\n\" style=\"fill:#1f77b4;\"/>\r\n   </g>\r\n   <g id=\"patch_20\">\r\n    <path clip-path=\"url(#p7e730956e7)\" d=\"M 134.51272 333.36 \r\nL 136.529709 333.36 \r\nL 136.529709 332.818037 \r\nL 134.51272 332.818037 \r\nz\r\n\" style=\"fill:#1f77b4;\"/>\r\n   </g>\r\n   <g id=\"patch_21\">\r\n    <path clip-path=\"url(#p7e730956e7)\" d=\"M 137.033956 333.36 \r\nL 139.050945 333.36 \r\nL 139.050945 249.670094 \r\nL 137.033956 249.670094 \r\nz\r\n\" style=\"fill:#1f77b4;\"/>\r\n   </g>\r\n   <g id=\"patch_22\">\r\n    <path clip-path=\"url(#p7e730956e7)\" d=\"M 139.555193 333.36 \r\nL 141.572182 333.36 \r\nL 141.572182 317.01398 \r\nL 139.555193 317.01398 \r\nz\r\n\" style=\"fill:#1f77b4;\"/>\r\n   </g>\r\n   <g id=\"patch_23\">\r\n    <path clip-path=\"url(#p7e730956e7)\" d=\"M 142.076429 333.36 \r\nL 144.093418 333.36 \r\nL 144.093418 328.27589 \r\nL 142.076429 328.27589 \r\nz\r\n\" style=\"fill:#1f77b4;\"/>\r\n   </g>\r\n   <g id=\"patch_24\">\r\n    <path clip-path=\"url(#p7e730956e7)\" d=\"M 144.597665 333.36 \r\nL 146.614654 333.36 \r\nL 146.614654 329.081058 \r\nL 144.597665 329.081058 \r\nz\r\n\" style=\"fill:#1f77b4;\"/>\r\n   </g>\r\n   <g id=\"patch_25\">\r\n    <path clip-path=\"url(#p7e730956e7)\" d=\"M 147.118901 333.36 \r\nL 149.13589 333.36 \r\nL 149.13589 261.668284 \r\nL 147.118901 261.668284 \r\nz\r\n\" style=\"fill:#1f77b4;\"/>\r\n   </g>\r\n   <g id=\"patch_26\">\r\n    <path clip-path=\"url(#p7e730956e7)\" d=\"M 149.640138 333.36 \r\nL 151.657127 333.36 \r\nL 151.657127 280.959372 \r\nL 149.640138 280.959372 \r\nz\r\n\" style=\"fill:#1f77b4;\"/>\r\n   </g>\r\n   <g id=\"patch_27\">\r\n    <path clip-path=\"url(#p7e730956e7)\" d=\"M 152.161374 333.36 \r\nL 154.178363 333.36 \r\nL 154.178363 318.099021 \r\nL 152.161374 318.099021 \r\nz\r\n\" style=\"fill:#1f77b4;\"/>\r\n   </g>\r\n   <g id=\"patch_28\">\r\n    <path clip-path=\"url(#p7e730956e7)\" d=\"M 154.68261 333.36 \r\nL 156.699599 333.36 \r\nL 156.699599 196.969178 \r\nL 154.68261 196.969178 \r\nz\r\n\" style=\"fill:#1f77b4;\"/>\r\n   </g>\r\n   <g id=\"patch_29\">\r\n    <path clip-path=\"url(#p7e730956e7)\" d=\"M 157.203846 333.36 \r\nL 159.220835 333.36 \r\nL 159.220835 211.101047 \r\nL 157.203846 211.101047 \r\nz\r\n\" style=\"fill:#1f77b4;\"/>\r\n   </g>\r\n   <g id=\"patch_30\">\r\n    <path clip-path=\"url(#p7e730956e7)\" d=\"M 159.725082 333.36 \r\nL 161.742071 333.36 \r\nL 161.742071 309.488396 \r\nL 159.725082 309.488396 \r\nz\r\n\" style=\"fill:#1f77b4;\"/>\r\n   </g>\r\n   <g id=\"patch_31\">\r\n    <path clip-path=\"url(#p7e730956e7)\" d=\"M 162.246319 333.36 \r\nL 164.263308 333.36 \r\nL 164.263308 317.184004 \r\nL 162.246319 317.184004 \r\nz\r\n\" style=\"fill:#1f77b4;\"/>\r\n   </g>\r\n   <g id=\"patch_32\">\r\n    <path clip-path=\"url(#p7e730956e7)\" d=\"M 164.767555 333.36 \r\nL 166.784544 333.36 \r\nL 166.784544 329.049441 \r\nL 164.767555 329.049441 \r\nz\r\n\" style=\"fill:#1f77b4;\"/>\r\n   </g>\r\n   <g id=\"patch_33\">\r\n    <path clip-path=\"url(#p7e730956e7)\" d=\"M 167.288791 333.36 \r\nL 169.30578 333.36 \r\nL 169.30578 332.673347 \r\nL 167.288791 332.673347 \r\nz\r\n\" style=\"fill:#1f77b4;\"/>\r\n   </g>\r\n   <g id=\"patch_34\">\r\n    <path clip-path=\"url(#p7e730956e7)\" d=\"M 169.810027 333.36 \r\nL 171.827016 333.36 \r\nL 171.827016 330.529522 \r\nL 169.810027 330.529522 \r\nz\r\n\" style=\"fill:#1f77b4;\"/>\r\n   </g>\r\n   <g id=\"patch_35\">\r\n    <path clip-path=\"url(#p7e730956e7)\" d=\"M 172.331264 333.36 \r\nL 174.348253 333.36 \r\nL 174.348253 329.579313 \r\nL 172.331264 329.579313 \r\nz\r\n\" style=\"fill:#1f77b4;\"/>\r\n   </g>\r\n   <g id=\"patch_36\">\r\n    <path clip-path=\"url(#p7e730956e7)\" d=\"M 174.8525 333.36 \r\nL 176.869489 333.36 \r\nL 176.869489 333.307061 \r\nL 174.8525 333.307061 \r\nz\r\n\" style=\"fill:#1f77b4;\"/>\r\n   </g>\r\n   <g id=\"patch_37\">\r\n    <path clip-path=\"url(#p7e730956e7)\" d=\"M 177.373736 333.36 \r\nL 179.390725 333.36 \r\nL 179.390725 332.903147 \r\nL 177.373736 332.903147 \r\nz\r\n\" style=\"fill:#1f77b4;\"/>\r\n   </g>\r\n   <g id=\"patch_38\">\r\n    <path clip-path=\"url(#p7e730956e7)\" d=\"M 179.894972 333.36 \r\nL 181.911961 333.36 \r\nL 181.911961 333.328434 \r\nL 179.894972 333.328434 \r\nz\r\n\" style=\"fill:#1f77b4;\"/>\r\n   </g>\r\n   <g id=\"patch_39\">\r\n    <path clip-path=\"url(#p7e730956e7)\" d=\"M 182.416208 333.36 \r\nL 184.433197 333.36 \r\nL 184.433197 332.309677 \r\nL 182.416208 332.309677 \r\nz\r\n\" style=\"fill:#1f77b4;\"/>\r\n   </g>\r\n   <g id=\"patch_40\">\r\n    <path clip-path=\"url(#p7e730956e7)\" d=\"M 184.937445 333.36 \r\nL 186.954434 333.36 \r\nL 186.954434 331.735343 \r\nL 184.937445 331.735343 \r\nz\r\n\" style=\"fill:#1f77b4;\"/>\r\n   </g>\r\n   <g id=\"patch_41\">\r\n    <path clip-path=\"url(#p7e730956e7)\" d=\"M 187.458681 333.36 \r\nL 189.47567 333.36 \r\nL 189.47567 332.234492 \r\nL 187.458681 332.234492 \r\nz\r\n\" style=\"fill:#1f77b4;\"/>\r\n   </g>\r\n   <g id=\"patch_42\">\r\n    <path clip-path=\"url(#p7e730956e7)\" d=\"M 189.979917 333.36 \r\nL 191.996906 333.36 \r\nL 191.996906 320.83282 \r\nL 189.979917 320.83282 \r\nz\r\n\" style=\"fill:#1f77b4;\"/>\r\n   </g>\r\n   <g id=\"patch_43\">\r\n    <path clip-path=\"url(#p7e730956e7)\" d=\"M 192.501153 333.36 \r\nL 194.518142 333.36 \r\nL 194.518142 314.956466 \r\nL 192.501153 314.956466 \r\nz\r\n\" style=\"fill:#1f77b4;\"/>\r\n   </g>\r\n   <g id=\"patch_44\">\r\n    <path clip-path=\"url(#p7e730956e7)\" d=\"M 195.02239 333.36 \r\nL 197.039379 333.36 \r\nL 197.039379 333.30797 \r\nL 195.02239 333.30797 \r\nz\r\n\" style=\"fill:#1f77b4;\"/>\r\n   </g>\r\n   <g id=\"patch_45\">\r\n    <path clip-path=\"url(#p7e730956e7)\" d=\"M 197.543626 333.36 \r\nL 199.560615 333.36 \r\nL 199.560615 333.30797 \r\nL 197.543626 333.30797 \r\nz\r\n\" style=\"fill:#1f77b4;\"/>\r\n   </g>\r\n   <g id=\"patch_46\">\r\n    <path clip-path=\"url(#p7e730956e7)\" d=\"M 200.064862 333.36 \r\nL 202.081851 333.36 \r\nL 202.081851 328.798891 \r\nL 200.064862 328.798891 \r\nz\r\n\" style=\"fill:#1f77b4;\"/>\r\n   </g>\r\n   <g id=\"patch_47\">\r\n    <path clip-path=\"url(#p7e730956e7)\" d=\"M 202.586098 333.36 \r\nL 204.603087 333.36 \r\nL 204.603087 329.765161 \r\nL 202.586098 329.765161 \r\nz\r\n\" style=\"fill:#1f77b4;\"/>\r\n   </g>\r\n   <g id=\"patch_48\">\r\n    <path clip-path=\"url(#p7e730956e7)\" d=\"M 205.107334 333.36 \r\nL 207.124323 333.36 \r\nL 207.124323 333.280508 \r\nL 205.107334 333.280508 \r\nz\r\n\" style=\"fill:#1f77b4;\"/>\r\n   </g>\r\n   <g id=\"patch_49\">\r\n    <path clip-path=\"url(#p7e730956e7)\" d=\"M 207.628571 333.36 \r\nL 209.64556 333.36 \r\nL 209.64556 325.029297 \r\nL 207.628571 325.029297 \r\nz\r\n\" style=\"fill:#1f77b4;\"/>\r\n   </g>\r\n   <g id=\"patch_50\">\r\n    <path clip-path=\"url(#p7e730956e7)\" d=\"M 210.149807 333.36 \r\nL 212.166796 333.36 \r\nL 212.166796 330.515143 \r\nL 210.149807 330.515143 \r\nz\r\n\" style=\"fill:#1f77b4;\"/>\r\n   </g>\r\n   <g id=\"patch_51\">\r\n    <path clip-path=\"url(#p7e730956e7)\" d=\"M 212.671043 333.36 \r\nL 214.688032 333.36 \r\nL 214.688032 332.860614 \r\nL 212.671043 332.860614 \r\nz\r\n\" style=\"fill:#1f77b4;\"/>\r\n   </g>\r\n   <g id=\"patch_52\">\r\n    <path clip-path=\"url(#p7e730956e7)\" d=\"M 215.192279 333.36 \r\nL 217.209268 333.36 \r\nL 217.209268 320.378419 \r\nL 215.192279 320.378419 \r\nz\r\n\" style=\"fill:#1f77b4;\"/>\r\n   </g>\r\n   <g id=\"patch_53\">\r\n    <path clip-path=\"url(#p7e730956e7)\" d=\"M 217.713515 333.36 \r\nL 219.730504 333.36 \r\nL 219.730504 331.157572 \r\nL 217.713515 331.157572 \r\nz\r\n\" style=\"fill:#1f77b4;\"/>\r\n   </g>\r\n   <g id=\"patch_54\">\r\n    <path clip-path=\"url(#p7e730956e7)\" d=\"M 220.234752 333.36 \r\nL 222.251741 333.36 \r\nL 222.251741 328.480841 \r\nL 220.234752 328.480841 \r\nz\r\n\" style=\"fill:#1f77b4;\"/>\r\n   </g>\r\n   <g id=\"patch_55\">\r\n    <path clip-path=\"url(#p7e730956e7)\" d=\"M 222.755988 333.36 \r\nL 224.772977 333.36 \r\nL 224.772977 332.934584 \r\nL 222.755988 332.934584 \r\nz\r\n\" style=\"fill:#1f77b4;\"/>\r\n   </g>\r\n   <g id=\"patch_56\">\r\n    <path clip-path=\"url(#p7e730956e7)\" d=\"M 225.277224 333.36 \r\nL 227.294213 333.36 \r\nL 227.294213 332.968093 \r\nL 225.277224 332.968093 \r\nz\r\n\" style=\"fill:#1f77b4;\"/>\r\n   </g>\r\n   <g id=\"patch_57\">\r\n    <path clip-path=\"url(#p7e730956e7)\" d=\"M 227.79846 333.36 \r\nL 229.815449 333.36 \r\nL 229.815449 333.299438 \r\nL 227.79846 333.299438 \r\nz\r\n\" style=\"fill:#1f77b4;\"/>\r\n   </g>\r\n   <g id=\"patch_58\">\r\n    <path clip-path=\"url(#p7e730956e7)\" d=\"M 230.319697 333.36 \r\nL 232.336686 333.36 \r\nL 232.336686 333.299438 \r\nL 230.319697 333.299438 \r\nz\r\n\" style=\"fill:#1f77b4;\"/>\r\n   </g>\r\n   <g id=\"patch_59\">\r\n    <path clip-path=\"url(#p7e730956e7)\" d=\"M 232.840933 333.36 \r\nL 234.857922 333.36 \r\nL 234.857922 333.228654 \r\nL 232.840933 333.228654 \r\nz\r\n\" style=\"fill:#1f77b4;\"/>\r\n   </g>\r\n   <g id=\"patch_60\">\r\n    <path clip-path=\"url(#p7e730956e7)\" d=\"M 235.362169 333.36 \r\nL 237.379158 333.36 \r\nL 237.379158 328.948164 \r\nL 235.362169 328.948164 \r\nz\r\n\" style=\"fill:#1f77b4;\"/>\r\n   </g>\r\n   <g id=\"patch_61\">\r\n    <path clip-path=\"url(#p7e730956e7)\" d=\"M 237.883405 333.36 \r\nL 239.900394 333.36 \r\nL 239.900394 333.34719 \r\nL 237.883405 333.34719 \r\nz\r\n\" style=\"fill:#1f77b4;\"/>\r\n   </g>\r\n   <g id=\"patch_62\">\r\n    <path clip-path=\"url(#p7e730956e7)\" d=\"M 240.404641 333.36 \r\nL 242.42163 333.36 \r\nL 242.42163 333.241428 \r\nL 240.404641 333.241428 \r\nz\r\n\" style=\"fill:#1f77b4;\"/>\r\n   </g>\r\n   <g id=\"patch_63\">\r\n    <path clip-path=\"url(#p7e730956e7)\" d=\"M 242.925878 333.36 \r\nL 244.942867 333.36 \r\nL 244.942867 332.617104 \r\nL 242.925878 332.617104 \r\nz\r\n\" style=\"fill:#1f77b4;\"/>\r\n   </g>\r\n   <g id=\"patch_64\">\r\n    <path clip-path=\"url(#p7e730956e7)\" d=\"M 245.447114 333.36 \r\nL 247.464103 333.36 \r\nL 247.464103 332.407833 \r\nL 245.447114 332.407833 \r\nz\r\n\" style=\"fill:#1f77b4;\"/>\r\n   </g>\r\n   <g id=\"patch_65\">\r\n    <path clip-path=\"url(#p7e730956e7)\" d=\"M 247.96835 333.36 \r\nL 249.985339 333.36 \r\nL 249.985339 332.831151 \r\nL 247.96835 332.831151 \r\nz\r\n\" style=\"fill:#1f77b4;\"/>\r\n   </g>\r\n   <g id=\"patch_66\">\r\n    <path clip-path=\"url(#p7e730956e7)\" d=\"M 250.489586 333.36 \r\nL 252.506575 333.36 \r\nL 252.506575 332.801313 \r\nL 250.489586 332.801313 \r\nz\r\n\" style=\"fill:#1f77b4;\"/>\r\n   </g>\r\n   <g id=\"patch_67\">\r\n    <path clip-path=\"url(#p7e730956e7)\" d=\"M 253.010823 333.36 \r\nL 255.027812 333.36 \r\nL 255.027812 333.313555 \r\nL 253.010823 333.313555 \r\nz\r\n\" style=\"fill:#1f77b4;\"/>\r\n   </g>\r\n   <g id=\"patch_68\">\r\n    <path clip-path=\"url(#p7e730956e7)\" d=\"M 255.532059 333.36 \r\nL 257.549048 333.36 \r\nL 257.549048 333.256343 \r\nL 255.532059 333.256343 \r\nz\r\n\" style=\"fill:#1f77b4;\"/>\r\n   </g>\r\n   <g id=\"patch_69\">\r\n    <path clip-path=\"url(#p7e730956e7)\" d=\"M 258.053295 333.36 \r\nL 260.070284 333.36 \r\nL 260.070284 330.935897 \r\nL 258.053295 330.935897 \r\nz\r\n\" style=\"fill:#1f77b4;\"/>\r\n   </g>\r\n   <g id=\"patch_70\">\r\n    <path clip-path=\"url(#p7e730956e7)\" d=\"M 260.574531 333.36 \r\nL 262.59152 333.36 \r\nL 262.59152 328.659966 \r\nL 260.574531 328.659966 \r\nz\r\n\" style=\"fill:#1f77b4;\"/>\r\n   </g>\r\n   <g id=\"patch_71\">\r\n    <path clip-path=\"url(#p7e730956e7)\" d=\"M 263.095767 333.36 \r\nL 265.112756 333.36 \r\nL 265.112756 332.352752 \r\nL 263.095767 332.352752 \r\nz\r\n\" style=\"fill:#1f77b4;\"/>\r\n   </g>\r\n   <g id=\"patch_72\">\r\n    <path clip-path=\"url(#p7e730956e7)\" d=\"M 265.617004 333.36 \r\nL 267.633993 333.36 \r\nL 267.633993 331.748997 \r\nL 265.617004 331.748997 \r\nz\r\n\" style=\"fill:#1f77b4;\"/>\r\n   </g>\r\n   <g id=\"patch_73\">\r\n    <path clip-path=\"url(#p7e730956e7)\" d=\"M 268.13824 333.36 \r\nL 270.155229 333.36 \r\nL 270.155229 332.276645 \r\nL 268.13824 332.276645 \r\nz\r\n\" style=\"fill:#1f77b4;\"/>\r\n   </g>\r\n   <g id=\"patch_74\">\r\n    <path clip-path=\"url(#p7e730956e7)\" d=\"M 270.659476 333.36 \r\nL 272.676465 333.36 \r\nL 272.676465 325.834868 \r\nL 270.659476 325.834868 \r\nz\r\n\" style=\"fill:#1f77b4;\"/>\r\n   </g>\r\n   <g id=\"patch_75\">\r\n    <path clip-path=\"url(#p7e730956e7)\" d=\"M 273.180712 333.36 \r\nL 275.197701 333.36 \r\nL 275.197701 332.822983 \r\nL 273.180712 332.822983 \r\nz\r\n\" style=\"fill:#1f77b4;\"/>\r\n   </g>\r\n   <g id=\"patch_76\">\r\n    <path clip-path=\"url(#p7e730956e7)\" d=\"M 275.701949 333.36 \r\nL 277.718938 333.36 \r\nL 277.718938 328.61107 \r\nL 275.701949 328.61107 \r\nz\r\n\" style=\"fill:#1f77b4;\"/>\r\n   </g>\r\n   <g id=\"patch_77\">\r\n    <path clip-path=\"url(#p7e730956e7)\" d=\"M 278.223185 333.36 \r\nL 280.240174 333.36 \r\nL 280.240174 331.331747 \r\nL 278.223185 331.331747 \r\nz\r\n\" style=\"fill:#1f77b4;\"/>\r\n   </g>\r\n   <g id=\"patch_78\">\r\n    <path clip-path=\"url(#p7e730956e7)\" d=\"M 280.744421 333.36 \r\nL 282.76141 333.36 \r\nL 282.76141 332.770939 \r\nL 280.744421 332.770939 \r\nz\r\n\" style=\"fill:#1f77b4;\"/>\r\n   </g>\r\n   <g id=\"patch_79\">\r\n    <path clip-path=\"url(#p7e730956e7)\" d=\"M 283.265657 333.36 \r\nL 285.282646 333.36 \r\nL 285.282646 326.577654 \r\nL 283.265657 326.577654 \r\nz\r\n\" style=\"fill:#1f77b4;\"/>\r\n   </g>\r\n   <g id=\"patch_80\">\r\n    <path clip-path=\"url(#p7e730956e7)\" d=\"M 285.786893 333.36 \r\nL 287.803882 333.36 \r\nL 287.803882 333.137471 \r\nL 285.786893 333.137471 \r\nz\r\n\" style=\"fill:#1f77b4;\"/>\r\n   </g>\r\n   <g id=\"patch_81\">\r\n    <path clip-path=\"url(#p7e730956e7)\" d=\"M 288.30813 333.36 \r\nL 290.325119 333.36 \r\nL 290.325119 333.241405 \r\nL 288.30813 333.241405 \r\nz\r\n\" style=\"fill:#1f77b4;\"/>\r\n   </g>\r\n   <g id=\"patch_82\">\r\n    <path clip-path=\"url(#p7e730956e7)\" d=\"M 290.829366 333.36 \r\nL 292.846355 333.36 \r\nL 292.846355 311.311741 \r\nL 290.829366 311.311741 \r\nz\r\n\" style=\"fill:#1f77b4;\"/>\r\n   </g>\r\n   <g id=\"patch_83\">\r\n    <path clip-path=\"url(#p7e730956e7)\" d=\"M 293.350602 333.36 \r\nL 295.367591 333.36 \r\nL 295.367591 300.97491 \r\nL 293.350602 300.97491 \r\nz\r\n\" style=\"fill:#1f77b4;\"/>\r\n   </g>\r\n   <g id=\"patch_84\">\r\n    <path clip-path=\"url(#p7e730956e7)\" d=\"M 295.871838 333.36 \r\nL 297.888827 333.36 \r\nL 297.888827 326.170375 \r\nL 295.871838 326.170375 \r\nz\r\n\" style=\"fill:#1f77b4;\"/>\r\n   </g>\r\n   <g id=\"patch_85\">\r\n    <path clip-path=\"url(#p7e730956e7)\" d=\"M 298.393075 333.36 \r\nL 300.410063 333.36 \r\nL 300.410063 332.666707 \r\nL 298.393075 332.666707 \r\nz\r\n\" style=\"fill:#1f77b4;\"/>\r\n   </g>\r\n   <g id=\"patch_86\">\r\n    <path clip-path=\"url(#p7e730956e7)\" d=\"M 300.914311 333.36 \r\nL 302.9313 333.36 \r\nL 302.9313 330.289513 \r\nL 300.914311 330.289513 \r\nz\r\n\" style=\"fill:#1f77b4;\"/>\r\n   </g>\r\n   <g id=\"patch_87\">\r\n    <path clip-path=\"url(#p7e730956e7)\" d=\"M 303.435547 333.36 \r\nL 305.452536 333.36 \r\nL 305.452536 333.358553 \r\nL 303.435547 333.358553 \r\nz\r\n\" style=\"fill:#1f77b4;\"/>\r\n   </g>\r\n   <g id=\"patch_88\">\r\n    <path clip-path=\"url(#p7e730956e7)\" d=\"M 305.956783 333.36 \r\nL 307.973772 333.36 \r\nL 307.973772 329.814665 \r\nL 305.956783 329.814665 \r\nz\r\n\" style=\"fill:#1f77b4;\"/>\r\n   </g>\r\n   <g id=\"patch_89\">\r\n    <path clip-path=\"url(#p7e730956e7)\" d=\"M 308.478019 333.36 \r\nL 310.495008 333.36 \r\nL 310.495008 323.418544 \r\nL 308.478019 323.418544 \r\nz\r\n\" style=\"fill:#1f77b4;\"/>\r\n   </g>\r\n   <g id=\"patch_90\">\r\n    <path clip-path=\"url(#p7e730956e7)\" d=\"M 310.999256 333.36 \r\nL 313.016245 333.36 \r\nL 313.016245 330.503249 \r\nL 310.999256 330.503249 \r\nz\r\n\" style=\"fill:#1f77b4;\"/>\r\n   </g>\r\n   <g id=\"patch_91\">\r\n    <path clip-path=\"url(#p7e730956e7)\" d=\"M 313.520492 333.36 \r\nL 315.537481 333.36 \r\nL 315.537481 332.164895 \r\nL 313.520492 332.164895 \r\nz\r\n\" style=\"fill:#1f77b4;\"/>\r\n   </g>\r\n   <g id=\"patch_92\">\r\n    <path clip-path=\"url(#p7e730956e7)\" d=\"M 316.041728 333.36 \r\nL 318.058717 333.36 \r\nL 318.058717 330.838029 \r\nL 316.041728 330.838029 \r\nz\r\n\" style=\"fill:#1f77b4;\"/>\r\n   </g>\r\n   <g id=\"patch_93\">\r\n    <path clip-path=\"url(#p7e730956e7)\" d=\"M 318.562964 333.36 \r\nL 320.579953 333.36 \r\nL 320.579953 330.508898 \r\nL 318.562964 330.508898 \r\nz\r\n\" style=\"fill:#1f77b4;\"/>\r\n   </g>\r\n   <g id=\"patch_94\">\r\n    <path clip-path=\"url(#p7e730956e7)\" d=\"M 321.0842 333.36 \r\nL 323.101189 333.36 \r\nL 323.101189 330.740678 \r\nL 321.0842 330.740678 \r\nz\r\n\" style=\"fill:#1f77b4;\"/>\r\n   </g>\r\n   <g id=\"patch_95\">\r\n    <path clip-path=\"url(#p7e730956e7)\" d=\"M 323.605437 333.36 \r\nL 325.622426 333.36 \r\nL 325.622426 333.264924 \r\nL 323.605437 333.264924 \r\nz\r\n\" style=\"fill:#1f77b4;\"/>\r\n   </g>\r\n   <g id=\"patch_96\">\r\n    <path clip-path=\"url(#p7e730956e7)\" d=\"M 326.126673 333.36 \r\nL 328.143662 333.36 \r\nL 328.143662 332.424112 \r\nL 326.126673 332.424112 \r\nz\r\n\" style=\"fill:#1f77b4;\"/>\r\n   </g>\r\n   <g id=\"patch_97\">\r\n    <path clip-path=\"url(#p7e730956e7)\" d=\"M 328.647909 333.36 \r\nL 330.664898 333.36 \r\nL 330.664898 332.814556 \r\nL 328.647909 332.814556 \r\nz\r\n\" style=\"fill:#1f77b4;\"/>\r\n   </g>\r\n   <g id=\"patch_98\">\r\n    <path clip-path=\"url(#p7e730956e7)\" d=\"M 331.169145 333.36 \r\nL 333.186134 333.36 \r\nL 333.186134 333.331088 \r\nL 331.169145 333.331088 \r\nz\r\n\" style=\"fill:#1f77b4;\"/>\r\n   </g>\r\n   <g id=\"patch_99\">\r\n    <path clip-path=\"url(#p7e730956e7)\" d=\"M 333.690382 333.36 \r\nL 335.707371 333.36 \r\nL 335.707371 333.35898 \r\nL 333.690382 333.35898 \r\nz\r\n\" style=\"fill:#1f77b4;\"/>\r\n   </g>\r\n   <g id=\"patch_100\">\r\n    <path clip-path=\"url(#p7e730956e7)\" d=\"M 336.211618 333.36 \r\nL 338.228607 333.36 \r\nL 338.228607 333.206873 \r\nL 336.211618 333.206873 \r\nz\r\n\" style=\"fill:#1f77b4;\"/>\r\n   </g>\r\n   <g id=\"patch_101\">\r\n    <path clip-path=\"url(#p7e730956e7)\" d=\"M 338.732854 333.36 \r\nL 340.749843 333.36 \r\nL 340.749843 333.00595 \r\nL 338.732854 333.00595 \r\nz\r\n\" style=\"fill:#1f77b4;\"/>\r\n   </g>\r\n   <g id=\"patch_102\">\r\n    <path clip-path=\"url(#p7e730956e7)\" d=\"M 341.25409 333.36 \r\nL 343.271079 333.36 \r\nL 343.271079 333.078204 \r\nL 341.25409 333.078204 \r\nz\r\n\" style=\"fill:#1f77b4;\"/>\r\n   </g>\r\n   <g id=\"patch_103\">\r\n    <path clip-path=\"url(#p7e730956e7)\" d=\"M 343.775326 333.36 \r\nL 345.792315 333.36 \r\nL 345.792315 333.289093 \r\nL 343.775326 333.289093 \r\nz\r\n\" style=\"fill:#1f77b4;\"/>\r\n   </g>\r\n   <g id=\"patch_104\">\r\n    <path clip-path=\"url(#p7e730956e7)\" d=\"M 0 0 \r\nz\r\n\" style=\"fill:#1f77b4;\"/>\r\n   </g>\r\n   <g id=\"patch_105\">\r\n    <path clip-path=\"url(#p7e730956e7)\" d=\"M 348.817799 333.36 \r\nL 350.834788 333.36 \r\nL 350.834788 332.680412 \r\nL 348.817799 332.680412 \r\nz\r\n\" style=\"fill:#1f77b4;\"/>\r\n   </g>\r\n   <g id=\"patch_106\">\r\n    <path clip-path=\"url(#p7e730956e7)\" d=\"M 351.339035 333.36 \r\nL 353.356024 333.36 \r\nL 353.356024 333.35762 \r\nL 351.339035 333.35762 \r\nz\r\n\" style=\"fill:#1f77b4;\"/>\r\n   </g>\r\n   <g id=\"patch_107\">\r\n    <path clip-path=\"url(#p7e730956e7)\" d=\"M 353.860271 333.36 \r\nL 355.87726 333.36 \r\nL 355.87726 333.297781 \r\nL 353.860271 333.297781 \r\nz\r\n\" style=\"fill:#1f77b4;\"/>\r\n   </g>\r\n   <g id=\"patch_108\">\r\n    <path clip-path=\"url(#p7e730956e7)\" d=\"M 0 0 \r\nz\r\n\" style=\"fill:#1f77b4;\"/>\r\n   </g>\r\n   <g id=\"patch_109\">\r\n    <path clip-path=\"url(#p7e730956e7)\" d=\"M 358.902744 333.36 \r\nL 360.919733 333.36 \r\nL 360.919733 329.169013 \r\nL 358.902744 329.169013 \r\nz\r\n\" style=\"fill:#1f77b4;\"/>\r\n   </g>\r\n   <g id=\"patch_110\">\r\n    <path clip-path=\"url(#p7e730956e7)\" d=\"M 361.42398 333.36 \r\nL 363.440969 333.36 \r\nL 363.440969 330.990903 \r\nL 361.42398 330.990903 \r\nz\r\n\" style=\"fill:#1f77b4;\"/>\r\n   </g>\r\n   <g id=\"patch_111\">\r\n    <path clip-path=\"url(#p7e730956e7)\" d=\"M 363.945216 333.36 \r\nL 365.962205 333.36 \r\nL 365.962205 330.553718 \r\nL 363.945216 330.553718 \r\nz\r\n\" style=\"fill:#1f77b4;\"/>\r\n   </g>\r\n   <g id=\"patch_112\">\r\n    <path clip-path=\"url(#p7e730956e7)\" d=\"M 366.466452 333.36 \r\nL 368.483441 333.36 \r\nL 368.483441 331.123005 \r\nL 366.466452 331.123005 \r\nz\r\n\" style=\"fill:#1f77b4;\"/>\r\n   </g>\r\n   <g id=\"patch_113\">\r\n    <path clip-path=\"url(#p7e730956e7)\" d=\"M 368.987689 333.36 \r\nL 371.004678 333.36 \r\nL 371.004678 333.345133 \r\nL 368.987689 333.345133 \r\nz\r\n\" style=\"fill:#1f77b4;\"/>\r\n   </g>\r\n   <g id=\"patch_114\">\r\n    <path clip-path=\"url(#p7e730956e7)\" d=\"M 371.508925 333.36 \r\nL 373.525914 333.36 \r\nL 373.525914 328.088927 \r\nL 371.508925 328.088927 \r\nz\r\n\" style=\"fill:#1f77b4;\"/>\r\n   </g>\r\n   <g id=\"patch_115\">\r\n    <path clip-path=\"url(#p7e730956e7)\" d=\"M 374.030161 333.36 \r\nL 376.04715 333.36 \r\nL 376.04715 331.563483 \r\nL 374.030161 331.563483 \r\nz\r\n\" style=\"fill:#1f77b4;\"/>\r\n   </g>\r\n   <g id=\"patch_116\">\r\n    <path clip-path=\"url(#p7e730956e7)\" d=\"M 376.551397 333.36 \r\nL 378.568386 333.36 \r\nL 378.568386 332.815595 \r\nL 376.551397 332.815595 \r\nz\r\n\" style=\"fill:#1f77b4;\"/>\r\n   </g>\r\n   <g id=\"patch_117\">\r\n    <path clip-path=\"url(#p7e730956e7)\" d=\"M 379.072634 333.36 \r\nL 381.089622 333.36 \r\nL 381.089622 332.679468 \r\nL 379.072634 332.679468 \r\nz\r\n\" style=\"fill:#1f77b4;\"/>\r\n   </g>\r\n   <g id=\"patch_118\">\r\n    <path clip-path=\"url(#p7e730956e7)\" d=\"M 381.59387 333.36 \r\nL 383.610859 333.36 \r\nL 383.610859 332.97009 \r\nL 381.59387 332.97009 \r\nz\r\n\" style=\"fill:#1f77b4;\"/>\r\n   </g>\r\n   <g id=\"patch_119\">\r\n    <path clip-path=\"url(#p7e730956e7)\" d=\"M 384.115106 333.36 \r\nL 386.132095 333.36 \r\nL 386.132095 322.675022 \r\nL 384.115106 322.675022 \r\nz\r\n\" style=\"fill:#1f77b4;\"/>\r\n   </g>\r\n   <g id=\"patch_120\">\r\n    <path clip-path=\"url(#p7e730956e7)\" d=\"M 386.636342 333.36 \r\nL 388.653331 333.36 \r\nL 388.653331 331.995784 \r\nL 386.636342 331.995784 \r\nz\r\n\" style=\"fill:#1f77b4;\"/>\r\n   </g>\r\n   <g id=\"patch_121\">\r\n    <path clip-path=\"url(#p7e730956e7)\" d=\"M 389.157578 333.36 \r\nL 391.174567 333.36 \r\nL 391.174567 333.028416 \r\nL 389.157578 333.028416 \r\nz\r\n\" style=\"fill:#1f77b4;\"/>\r\n   </g>\r\n   <g id=\"patch_122\">\r\n    <path clip-path=\"url(#p7e730956e7)\" d=\"M 391.678815 333.36 \r\nL 393.695804 333.36 \r\nL 393.695804 333.293049 \r\nL 391.678815 333.293049 \r\nz\r\n\" style=\"fill:#1f77b4;\"/>\r\n   </g>\r\n   <g id=\"patch_123\">\r\n    <path clip-path=\"url(#p7e730956e7)\" d=\"M 394.200051 333.36 \r\nL 396.21704 333.36 \r\nL 396.21704 323.094808 \r\nL 394.200051 323.094808 \r\nz\r\n\" style=\"fill:#1f77b4;\"/>\r\n   </g>\r\n   <g id=\"patch_124\">\r\n    <path clip-path=\"url(#p7e730956e7)\" d=\"M 396.721287 333.36 \r\nL 398.738276 333.36 \r\nL 398.738276 333.154948 \r\nL 396.721287 333.154948 \r\nz\r\n\" style=\"fill:#1f77b4;\"/>\r\n   </g>\r\n   <g id=\"patch_125\">\r\n    <path clip-path=\"url(#p7e730956e7)\" d=\"M 399.242523 333.36 \r\nL 401.259512 333.36 \r\nL 401.259512 322.026496 \r\nL 399.242523 322.026496 \r\nz\r\n\" style=\"fill:#1f77b4;\"/>\r\n   </g>\r\n   <g id=\"patch_126\">\r\n    <path clip-path=\"url(#p7e730956e7)\" d=\"M 401.763759 333.36 \r\nL 403.780748 333.36 \r\nL 403.780748 333.352753 \r\nL 401.763759 333.352753 \r\nz\r\n\" style=\"fill:#1f77b4;\"/>\r\n   </g>\r\n   <g id=\"patch_127\">\r\n    <path clip-path=\"url(#p7e730956e7)\" d=\"M 404.284996 333.36 \r\nL 406.301985 333.36 \r\nL 406.301985 333.239412 \r\nL 404.284996 333.239412 \r\nz\r\n\" style=\"fill:#1f77b4;\"/>\r\n   </g>\r\n   <g id=\"patch_128\">\r\n    <path clip-path=\"url(#p7e730956e7)\" d=\"M 406.806232 333.36 \r\nL 408.823221 333.36 \r\nL 408.823221 333.345672 \r\nL 406.806232 333.345672 \r\nz\r\n\" style=\"fill:#1f77b4;\"/>\r\n   </g>\r\n   <g id=\"patch_129\">\r\n    <path clip-path=\"url(#p7e730956e7)\" d=\"M 409.327468 333.36 \r\nL 411.344457 333.36 \r\nL 411.344457 332.409837 \r\nL 409.327468 332.409837 \r\nz\r\n\" style=\"fill:#1f77b4;\"/>\r\n   </g>\r\n   <g id=\"patch_130\">\r\n    <path clip-path=\"url(#p7e730956e7)\" d=\"M 0 0 \r\nz\r\n\" style=\"fill:#1f77b4;\"/>\r\n   </g>\r\n   <g id=\"patch_131\">\r\n    <path clip-path=\"url(#p7e730956e7)\" d=\"M 414.369941 333.36 \r\nL 416.38693 333.36 \r\nL 416.38693 333.359946 \r\nL 414.369941 333.359946 \r\nz\r\n\" style=\"fill:#1f77b4;\"/>\r\n   </g>\r\n   <g id=\"patch_132\">\r\n    <path clip-path=\"url(#p7e730956e7)\" d=\"M 416.891177 333.36 \r\nL 418.908166 333.36 \r\nL 418.908166 333.298047 \r\nL 416.891177 333.298047 \r\nz\r\n\" style=\"fill:#1f77b4;\"/>\r\n   </g>\r\n   <g id=\"patch_133\">\r\n    <path clip-path=\"url(#p7e730956e7)\" d=\"M 419.412413 333.36 \r\nL 421.429402 333.36 \r\nL 421.429402 333.324915 \r\nL 419.412413 333.324915 \r\nz\r\n\" style=\"fill:#1f77b4;\"/>\r\n   </g>\r\n   <g id=\"patch_134\">\r\n    <path clip-path=\"url(#p7e730956e7)\" d=\"M 421.933649 333.36 \r\nL 423.950638 333.36 \r\nL 423.950638 333.17049 \r\nL 421.933649 333.17049 \r\nz\r\n\" style=\"fill:#1f77b4;\"/>\r\n   </g>\r\n   <g id=\"patch_135\">\r\n    <path clip-path=\"url(#p7e730956e7)\" d=\"M 424.454885 333.36 \r\nL 426.471874 333.36 \r\nL 426.471874 330.650821 \r\nL 424.454885 330.650821 \r\nz\r\n\" style=\"fill:#1f77b4;\"/>\r\n   </g>\r\n   <g id=\"patch_136\">\r\n    <path clip-path=\"url(#p7e730956e7)\" d=\"M 426.976122 333.36 \r\nL 428.993111 333.36 \r\nL 428.993111 331.056719 \r\nL 426.976122 331.056719 \r\nz\r\n\" style=\"fill:#1f77b4;\"/>\r\n   </g>\r\n   <g id=\"patch_137\">\r\n    <path clip-path=\"url(#p7e730956e7)\" d=\"M 429.497358 333.36 \r\nL 431.514347 333.36 \r\nL 431.514347 333.151238 \r\nL 429.497358 333.151238 \r\nz\r\n\" style=\"fill:#1f77b4;\"/>\r\n   </g>\r\n   <g id=\"patch_138\">\r\n    <path clip-path=\"url(#p7e730956e7)\" d=\"M 432.018594 333.36 \r\nL 434.035583 333.36 \r\nL 434.035583 332.588567 \r\nL 432.018594 332.588567 \r\nz\r\n\" style=\"fill:#1f77b4;\"/>\r\n   </g>\r\n   <g id=\"patch_139\">\r\n    <path clip-path=\"url(#p7e730956e7)\" d=\"M 434.53983 333.36 \r\nL 436.556819 333.36 \r\nL 436.556819 332.650771 \r\nL 434.53983 332.650771 \r\nz\r\n\" style=\"fill:#1f77b4;\"/>\r\n   </g>\r\n   <g id=\"patch_140\">\r\n    <path clip-path=\"url(#p7e730956e7)\" d=\"M 437.061067 333.36 \r\nL 439.078056 333.36 \r\nL 439.078056 333.176147 \r\nL 437.061067 333.176147 \r\nz\r\n\" style=\"fill:#1f77b4;\"/>\r\n   </g>\r\n   <g id=\"patch_141\">\r\n    <path clip-path=\"url(#p7e730956e7)\" d=\"M 439.582303 333.36 \r\nL 441.599292 333.36 \r\nL 441.599292 329.513941 \r\nL 439.582303 329.513941 \r\nz\r\n\" style=\"fill:#1f77b4;\"/>\r\n   </g>\r\n   <g id=\"patch_142\">\r\n    <path clip-path=\"url(#p7e730956e7)\" d=\"M 442.103539 333.36 \r\nL 444.120528 333.36 \r\nL 444.120528 330.686584 \r\nL 442.103539 330.686584 \r\nz\r\n\" style=\"fill:#1f77b4;\"/>\r\n   </g>\r\n   <g id=\"patch_143\">\r\n    <path clip-path=\"url(#p7e730956e7)\" d=\"M 0 0 \r\nz\r\n\" style=\"fill:#1f77b4;\"/>\r\n   </g>\r\n   <g id=\"patch_144\">\r\n    <path clip-path=\"url(#p7e730956e7)\" d=\"M 447.146011 333.36 \r\nL 449.163 333.36 \r\nL 449.163 327.847487 \r\nL 447.146011 327.847487 \r\nz\r\n\" style=\"fill:#1f77b4;\"/>\r\n   </g>\r\n   <g id=\"patch_145\">\r\n    <path clip-path=\"url(#p7e730956e7)\" d=\"M 449.667248 333.36 \r\nL 451.684237 333.36 \r\nL 451.684237 333.348626 \r\nL 449.667248 333.348626 \r\nz\r\n\" style=\"fill:#1f77b4;\"/>\r\n   </g>\r\n   <g id=\"patch_146\">\r\n    <path clip-path=\"url(#p7e730956e7)\" d=\"M 452.188484 333.36 \r\nL 454.205473 333.36 \r\nL 454.205473 333.285206 \r\nL 452.188484 333.285206 \r\nz\r\n\" style=\"fill:#1f77b4;\"/>\r\n   </g>\r\n   <g id=\"patch_147\">\r\n    <path clip-path=\"url(#p7e730956e7)\" d=\"M 454.70972 333.36 \r\nL 456.726709 333.36 \r\nL 456.726709 333.348409 \r\nL 454.70972 333.348409 \r\nz\r\n\" style=\"fill:#1f77b4;\"/>\r\n   </g>\r\n   <g id=\"patch_148\">\r\n    <path clip-path=\"url(#p7e730956e7)\" d=\"M 457.230956 333.36 \r\nL 459.247945 333.36 \r\nL 459.247945 313.424611 \r\nL 457.230956 313.424611 \r\nz\r\n\" style=\"fill:#1f77b4;\"/>\r\n   </g>\r\n   <g id=\"patch_149\">\r\n    <path clip-path=\"url(#p7e730956e7)\" d=\"M 459.752193 333.36 \r\nL 461.769182 333.36 \r\nL 461.769182 327.695857 \r\nL 459.752193 327.695857 \r\nz\r\n\" style=\"fill:#1f77b4;\"/>\r\n   </g>\r\n   <g id=\"patch_150\">\r\n    <path clip-path=\"url(#p7e730956e7)\" d=\"M 462.273429 333.36 \r\nL 464.290418 333.36 \r\nL 464.290418 332.929078 \r\nL 462.273429 332.929078 \r\nz\r\n\" style=\"fill:#1f77b4;\"/>\r\n   </g>\r\n   <g id=\"patch_151\">\r\n    <path clip-path=\"url(#p7e730956e7)\" d=\"M 464.794665 333.36 \r\nL 466.811654 333.36 \r\nL 466.811654 331.521494 \r\nL 464.794665 331.521494 \r\nz\r\n\" style=\"fill:#1f77b4;\"/>\r\n   </g>\r\n   <g id=\"patch_152\">\r\n    <path clip-path=\"url(#p7e730956e7)\" d=\"M 467.315901 333.36 \r\nL 469.33289 333.36 \r\nL 469.33289 333.118444 \r\nL 467.315901 333.118444 \r\nz\r\n\" style=\"fill:#1f77b4;\"/>\r\n   </g>\r\n   <g id=\"patch_153\">\r\n    <path clip-path=\"url(#p7e730956e7)\" d=\"M 469.837137 333.36 \r\nL 471.854126 333.36 \r\nL 471.854126 332.722291 \r\nL 469.837137 332.722291 \r\nz\r\n\" style=\"fill:#1f77b4;\"/>\r\n   </g>\r\n   <g id=\"patch_154\">\r\n    <path clip-path=\"url(#p7e730956e7)\" d=\"M 472.358374 333.36 \r\nL 474.375363 333.36 \r\nL 474.375363 332.465875 \r\nL 472.358374 332.465875 \r\nz\r\n\" style=\"fill:#1f77b4;\"/>\r\n   </g>\r\n   <g id=\"patch_155\">\r\n    <path clip-path=\"url(#p7e730956e7)\" d=\"M 474.87961 333.36 \r\nL 476.896599 333.36 \r\nL 476.896599 333.176147 \r\nL 474.87961 333.176147 \r\nz\r\n\" style=\"fill:#1f77b4;\"/>\r\n   </g>\r\n   <g id=\"patch_156\">\r\n    <path clip-path=\"url(#p7e730956e7)\" d=\"M 477.400846 333.36 \r\nL 479.417835 333.36 \r\nL 479.417835 329.949619 \r\nL 477.400846 329.949619 \r\nz\r\n\" style=\"fill:#1f77b4;\"/>\r\n   </g>\r\n   <g id=\"patch_157\">\r\n    <path clip-path=\"url(#p7e730956e7)\" d=\"M 479.922082 333.36 \r\nL 481.939071 333.36 \r\nL 481.939071 331.743865 \r\nL 479.922082 331.743865 \r\nz\r\n\" style=\"fill:#1f77b4;\"/>\r\n   </g>\r\n   <g id=\"patch_158\">\r\n    <path clip-path=\"url(#p7e730956e7)\" d=\"M 482.443318 333.36 \r\nL 484.460307 333.36 \r\nL 484.460307 331.348837 \r\nL 482.443318 331.348837 \r\nz\r\n\" style=\"fill:#1f77b4;\"/>\r\n   </g>\r\n   <g id=\"patch_159\">\r\n    <path clip-path=\"url(#p7e730956e7)\" d=\"M 484.964555 333.36 \r\nL 486.981544 333.36 \r\nL 486.981544 328.302427 \r\nL 484.964555 328.302427 \r\nz\r\n\" style=\"fill:#1f77b4;\"/>\r\n   </g>\r\n   <g id=\"patch_160\">\r\n    <path clip-path=\"url(#p7e730956e7)\" d=\"M 487.485791 333.36 \r\nL 489.50278 333.36 \r\nL 489.50278 332.760214 \r\nL 487.485791 332.760214 \r\nz\r\n\" style=\"fill:#1f77b4;\"/>\r\n   </g>\r\n   <g id=\"patch_161\">\r\n    <path clip-path=\"url(#p7e730956e7)\" d=\"M 490.007027 333.36 \r\nL 492.024016 333.36 \r\nL 492.024016 332.798147 \r\nL 490.007027 332.798147 \r\nz\r\n\" style=\"fill:#1f77b4;\"/>\r\n   </g>\r\n   <g id=\"patch_162\">\r\n    <path clip-path=\"url(#p7e730956e7)\" d=\"M 492.528263 333.36 \r\nL 494.545252 333.36 \r\nL 494.545252 333.336789 \r\nL 492.528263 333.336789 \r\nz\r\n\" style=\"fill:#1f77b4;\"/>\r\n   </g>\r\n   <g id=\"patch_163\">\r\n    <path clip-path=\"url(#p7e730956e7)\" d=\"M 495.0495 333.36 \r\nL 497.066489 333.36 \r\nL 497.066489 333.289318 \r\nL 495.0495 333.289318 \r\nz\r\n\" style=\"fill:#1f77b4;\"/>\r\n   </g>\r\n   <g id=\"patch_164\">\r\n    <path clip-path=\"url(#p7e730956e7)\" d=\"M 497.570736 333.36 \r\nL 499.587725 333.36 \r\nL 499.587725 313.349889 \r\nL 497.570736 313.349889 \r\nz\r\n\" style=\"fill:#1f77b4;\"/>\r\n   </g>\r\n   <g id=\"patch_165\">\r\n    <path clip-path=\"url(#p7e730956e7)\" d=\"M 500.091972 333.36 \r\nL 502.108961 333.36 \r\nL 502.108961 328.14138 \r\nL 500.091972 328.14138 \r\nz\r\n\" style=\"fill:#1f77b4;\"/>\r\n   </g>\r\n   <g id=\"patch_166\">\r\n    <path clip-path=\"url(#p7e730956e7)\" d=\"M 502.613208 333.36 \r\nL 504.630197 333.36 \r\nL 504.630197 333.067098 \r\nL 502.613208 333.067098 \r\nz\r\n\" style=\"fill:#1f77b4;\"/>\r\n   </g>\r\n   <g id=\"patch_167\">\r\n    <path clip-path=\"url(#p7e730956e7)\" d=\"M 505.134444 333.36 \r\nL 507.151433 333.36 \r\nL 507.151433 333.030318 \r\nL 505.134444 333.030318 \r\nz\r\n\" style=\"fill:#1f77b4;\"/>\r\n   </g>\r\n   <g id=\"patch_168\">\r\n    <path clip-path=\"url(#p7e730956e7)\" d=\"M 507.655681 333.36 \r\nL 509.67267 333.36 \r\nL 509.67267 326.976809 \r\nL 507.655681 326.976809 \r\nz\r\n\" style=\"fill:#1f77b4;\"/>\r\n   </g>\r\n   <g id=\"patch_169\">\r\n    <path clip-path=\"url(#p7e730956e7)\" d=\"M 510.176917 333.36 \r\nL 512.193906 333.36 \r\nL 512.193906 306.93113 \r\nL 510.176917 306.93113 \r\nz\r\n\" style=\"fill:#1f77b4;\"/>\r\n   </g>\r\n   <g id=\"patch_170\">\r\n    <path clip-path=\"url(#p7e730956e7)\" d=\"M 512.698153 333.36 \r\nL 514.715142 333.36 \r\nL 514.715142 310.713331 \r\nL 512.698153 310.713331 \r\nz\r\n\" style=\"fill:#1f77b4;\"/>\r\n   </g>\r\n   <g id=\"patch_171\">\r\n    <path clip-path=\"url(#p7e730956e7)\" d=\"M 515.219389 333.36 \r\nL 517.236378 333.36 \r\nL 517.236378 295.166801 \r\nL 515.219389 295.166801 \r\nz\r\n\" style=\"fill:#1f77b4;\"/>\r\n   </g>\r\n   <g id=\"patch_172\">\r\n    <path clip-path=\"url(#p7e730956e7)\" d=\"M 517.740626 333.36 \r\nL 519.757615 333.36 \r\nL 519.757615 330.972961 \r\nL 517.740626 330.972961 \r\nz\r\n\" style=\"fill:#1f77b4;\"/>\r\n   </g>\r\n   <g id=\"patch_173\">\r\n    <path clip-path=\"url(#p7e730956e7)\" d=\"M 520.261862 333.36 \r\nL 522.278851 333.36 \r\nL 522.278851 280.714676 \r\nL 520.261862 280.714676 \r\nz\r\n\" style=\"fill:#1f77b4;\"/>\r\n   </g>\r\n   <g id=\"patch_174\">\r\n    <path clip-path=\"url(#p7e730956e7)\" d=\"M 522.783098 333.36 \r\nL 524.800087 333.36 \r\nL 524.800087 235.478013 \r\nL 522.783098 235.478013 \r\nz\r\n\" style=\"fill:#1f77b4;\"/>\r\n   </g>\r\n   <g id=\"patch_175\">\r\n    <path clip-path=\"url(#p7e730956e7)\" d=\"M 525.304334 333.36 \r\nL 527.321323 333.36 \r\nL 527.321323 333.249545 \r\nL 525.304334 333.249545 \r\nz\r\n\" style=\"fill:#1f77b4;\"/>\r\n   </g>\r\n   <g id=\"patch_176\">\r\n    <path clip-path=\"url(#p7e730956e7)\" d=\"M 527.82557 333.36 \r\nL 529.842559 333.36 \r\nL 529.842559 329.360855 \r\nL 527.82557 329.360855 \r\nz\r\n\" style=\"fill:#1f77b4;\"/>\r\n   </g>\r\n   <g id=\"patch_177\">\r\n    <path clip-path=\"url(#p7e730956e7)\" d=\"M 530.346807 333.36 \r\nL 532.363796 333.36 \r\nL 532.363796 332.491452 \r\nL 530.346807 332.491452 \r\nz\r\n\" style=\"fill:#1f77b4;\"/>\r\n   </g>\r\n   <g id=\"patch_178\">\r\n    <path clip-path=\"url(#p7e730956e7)\" d=\"M 532.868043 333.36 \r\nL 534.885032 333.36 \r\nL 534.885032 333.012887 \r\nL 532.868043 333.012887 \r\nz\r\n\" style=\"fill:#1f77b4;\"/>\r\n   </g>\r\n   <g id=\"patch_179\">\r\n    <path clip-path=\"url(#p7e730956e7)\" d=\"M 535.389279 333.36 \r\nL 537.406268 333.36 \r\nL 537.406268 329.995557 \r\nL 535.389279 329.995557 \r\nz\r\n\" style=\"fill:#1f77b4;\"/>\r\n   </g>\r\n   <g id=\"patch_180\">\r\n    <path clip-path=\"url(#p7e730956e7)\" d=\"M 537.910515 333.36 \r\nL 539.927504 333.36 \r\nL 539.927504 325.668409 \r\nL 537.910515 325.668409 \r\nz\r\n\" style=\"fill:#1f77b4;\"/>\r\n   </g>\r\n   <g id=\"patch_181\">\r\n    <path clip-path=\"url(#p7e730956e7)\" d=\"M 540.431752 333.36 \r\nL 542.448741 333.36 \r\nL 542.448741 309.498674 \r\nL 540.431752 309.498674 \r\nz\r\n\" style=\"fill:#1f77b4;\"/>\r\n   </g>\r\n   <g id=\"patch_182\">\r\n    <path clip-path=\"url(#p7e730956e7)\" d=\"M 542.952988 333.36 \r\nL 544.969977 333.36 \r\nL 544.969977 274.839915 \r\nL 542.952988 274.839915 \r\nz\r\n\" style=\"fill:#1f77b4;\"/>\r\n   </g>\r\n   <g id=\"patch_183\">\r\n    <path clip-path=\"url(#p7e730956e7)\" d=\"M 545.474224 333.36 \r\nL 547.491213 333.36 \r\nL 547.491213 330.158262 \r\nL 545.474224 330.158262 \r\nz\r\n\" style=\"fill:#1f77b4;\"/>\r\n   </g>\r\n   <g id=\"patch_184\">\r\n    <path clip-path=\"url(#p7e730956e7)\" d=\"M 547.99546 333.36 \r\nL 550.012449 333.36 \r\nL 550.012449 333.358831 \r\nL 547.99546 333.358831 \r\nz\r\n\" style=\"fill:#1f77b4;\"/>\r\n   </g>\r\n   <g id=\"patch_185\">\r\n    <path clip-path=\"url(#p7e730956e7)\" d=\"M 550.516696 333.36 \r\nL 552.533685 333.36 \r\nL 552.533685 333.358203 \r\nL 550.516696 333.358203 \r\nz\r\n\" style=\"fill:#1f77b4;\"/>\r\n   </g>\r\n   <g id=\"patch_186\">\r\n    <path clip-path=\"url(#p7e730956e7)\" d=\"M 553.037933 333.36 \r\nL 555.054922 333.36 \r\nL 555.054922 252.971925 \r\nL 553.037933 252.971925 \r\nz\r\n\" style=\"fill:#1f77b4;\"/>\r\n   </g>\r\n   <g id=\"patch_187\">\r\n    <path clip-path=\"url(#p7e730956e7)\" d=\"M 555.559169 333.36 \r\nL 557.576158 333.36 \r\nL 557.576158 329.913293 \r\nL 555.559169 329.913293 \r\nz\r\n\" style=\"fill:#1f77b4;\"/>\r\n   </g>\r\n   <g id=\"patch_188\">\r\n    <path clip-path=\"url(#p7e730956e7)\" d=\"M 558.080405 333.36 \r\nL 560.097394 333.36 \r\nL 560.097394 321.738318 \r\nL 558.080405 321.738318 \r\nz\r\n\" style=\"fill:#1f77b4;\"/>\r\n   </g>\r\n   <g id=\"patch_189\">\r\n    <path clip-path=\"url(#p7e730956e7)\" d=\"M 560.601641 333.36 \r\nL 562.61863 333.36 \r\nL 562.61863 328.341074 \r\nL 560.601641 328.341074 \r\nz\r\n\" style=\"fill:#1f77b4;\"/>\r\n   </g>\r\n   <g id=\"patch_190\">\r\n    <path clip-path=\"url(#p7e730956e7)\" d=\"M 563.122878 333.36 \r\nL 565.139866 333.36 \r\nL 565.139866 285.193356 \r\nL 563.122878 285.193356 \r\nz\r\n\" style=\"fill:#1f77b4;\"/>\r\n   </g>\r\n   <g id=\"patch_191\">\r\n    <path clip-path=\"url(#p7e730956e7)\" d=\"M 565.644114 333.36 \r\nL 567.661103 333.36 \r\nL 567.661103 328.961682 \r\nL 565.644114 328.961682 \r\nz\r\n\" style=\"fill:#1f77b4;\"/>\r\n   </g>\r\n   <g id=\"patch_192\">\r\n    <path clip-path=\"url(#p7e730956e7)\" d=\"M 568.16535 333.36 \r\nL 570.182339 333.36 \r\nL 570.182339 332.153923 \r\nL 568.16535 332.153923 \r\nz\r\n\" style=\"fill:#1f77b4;\"/>\r\n   </g>\r\n   <g id=\"patch_193\">\r\n    <path clip-path=\"url(#p7e730956e7)\" d=\"M 570.686586 333.36 \r\nL 572.703575 333.36 \r\nL 572.703575 328.341074 \r\nL 570.686586 328.341074 \r\nz\r\n\" style=\"fill:#1f77b4;\"/>\r\n   </g>\r\n   <g id=\"patch_194\">\r\n    <path clip-path=\"url(#p7e730956e7)\" d=\"M 573.207822 333.36 \r\nL 575.224811 333.36 \r\nL 575.224811 332.902371 \r\nL 573.207822 332.902371 \r\nz\r\n\" style=\"fill:#1f77b4;\"/>\r\n   </g>\r\n   <g id=\"patch_195\">\r\n    <path clip-path=\"url(#p7e730956e7)\" d=\"M 575.729059 333.36 \r\nL 577.746048 333.36 \r\nL 577.746048 330.51092 \r\nL 575.729059 330.51092 \r\nz\r\n\" style=\"fill:#1f77b4;\"/>\r\n   </g>\r\n   <g id=\"patch_196\">\r\n    <path clip-path=\"url(#p7e730956e7)\" d=\"M 578.250295 333.36 \r\nL 580.267284 333.36 \r\nL 580.267284 328.474114 \r\nL 578.250295 328.474114 \r\nz\r\n\" style=\"fill:#1f77b4;\"/>\r\n   </g>\r\n   <g id=\"patch_197\">\r\n    <path clip-path=\"url(#p7e730956e7)\" d=\"M 580.771531 333.36 \r\nL 582.78852 333.36 \r\nL 582.78852 317.984667 \r\nL 580.771531 317.984667 \r\nz\r\n\" style=\"fill:#1f77b4;\"/>\r\n   </g>\r\n   <g id=\"patch_198\">\r\n    <path clip-path=\"url(#p7e730956e7)\" d=\"M 583.292767 333.36 \r\nL 585.309756 333.36 \r\nL 585.309756 332.571395 \r\nL 583.292767 332.571395 \r\nz\r\n\" style=\"fill:#1f77b4;\"/>\r\n   </g>\r\n   <g id=\"patch_199\">\r\n    <path clip-path=\"url(#p7e730956e7)\" d=\"M 585.814003 333.36 \r\nL 587.830992 333.36 \r\nL 587.830992 318.449677 \r\nL 585.814003 318.449677 \r\nz\r\n\" style=\"fill:#1f77b4;\"/>\r\n   </g>\r\n   <g id=\"patch_200\">\r\n    <path clip-path=\"url(#p7e730956e7)\" d=\"M 588.33524 333.36 \r\nL 590.352229 333.36 \r\nL 590.352229 328.341074 \r\nL 588.33524 328.341074 \r\nz\r\n\" style=\"fill:#1f77b4;\"/>\r\n   </g>\r\n   <g id=\"patch_201\">\r\n    <path clip-path=\"url(#p7e730956e7)\" d=\"M 590.856476 333.36 \r\nL 592.873465 333.36 \r\nL 592.873465 331.028796 \r\nL 590.856476 331.028796 \r\nz\r\n\" style=\"fill:#1f77b4;\"/>\r\n   </g>\r\n   <g id=\"patch_202\">\r\n    <path clip-path=\"url(#p7e730956e7)\" d=\"M 593.377712 333.36 \r\nL 595.394701 333.36 \r\nL 595.394701 329.496324 \r\nL 593.377712 329.496324 \r\nz\r\n\" style=\"fill:#1f77b4;\"/>\r\n   </g>\r\n   <g id=\"patch_203\">\r\n    <path clip-path=\"url(#p7e730956e7)\" d=\"M 595.898948 333.36 \r\nL 597.915937 333.36 \r\nL 597.915937 291.401064 \r\nL 595.898948 291.401064 \r\nz\r\n\" style=\"fill:#1f77b4;\"/>\r\n   </g>\r\n   <g id=\"patch_204\">\r\n    <path clip-path=\"url(#p7e730956e7)\" d=\"M 598.420185 333.36 \r\nL 600.437174 333.36 \r\nL 600.437174 331.561212 \r\nL 598.420185 331.561212 \r\nz\r\n\" style=\"fill:#1f77b4;\"/>\r\n   </g>\r\n   <g id=\"patch_205\">\r\n    <path clip-path=\"url(#p7e730956e7)\" d=\"M 600.941421 333.36 \r\nL 602.95841 333.36 \r\nL 602.95841 328.341074 \r\nL 600.941421 328.341074 \r\nz\r\n\" style=\"fill:#1f77b4;\"/>\r\n   </g>\r\n   <g id=\"patch_206\">\r\n    <path clip-path=\"url(#p7e730956e7)\" d=\"M 603.462657 333.36 \r\nL 605.479646 333.36 \r\nL 605.479646 330.458071 \r\nL 603.462657 330.458071 \r\nz\r\n\" style=\"fill:#1f77b4;\"/>\r\n   </g>\r\n   <g id=\"patch_207\">\r\n    <path clip-path=\"url(#p7e730956e7)\" d=\"M 605.983893 333.36 \r\nL 608.000882 333.36 \r\nL 608.000882 332.540536 \r\nL 605.983893 332.540536 \r\nz\r\n\" style=\"fill:#1f77b4;\"/>\r\n   </g>\r\n   <g id=\"patch_208\">\r\n    <path clip-path=\"url(#p7e730956e7)\" d=\"M 608.505129 333.36 \r\nL 610.522118 333.36 \r\nL 610.522118 332.929496 \r\nL 608.505129 332.929496 \r\nz\r\n\" style=\"fill:#1f77b4;\"/>\r\n   </g>\r\n   <g id=\"patch_209\">\r\n    <path clip-path=\"url(#p7e730956e7)\" d=\"M 611.026366 333.36 \r\nL 613.043355 333.36 \r\nL 613.043355 333.207249 \r\nL 611.026366 333.207249 \r\nz\r\n\" style=\"fill:#1f77b4;\"/>\r\n   </g>\r\n   <g id=\"patch_210\">\r\n    <path clip-path=\"url(#p7e730956e7)\" d=\"M 613.547602 333.36 \r\nL 615.564591 333.36 \r\nL 615.564591 333.357946 \r\nL 613.547602 333.357946 \r\nz\r\n\" style=\"fill:#1f77b4;\"/>\r\n   </g>\r\n   <g id=\"patch_211\">\r\n    <path clip-path=\"url(#p7e730956e7)\" d=\"M 616.068838 333.36 \r\nL 618.085827 333.36 \r\nL 618.085827 332.978571 \r\nL 616.068838 332.978571 \r\nz\r\n\" style=\"fill:#1f77b4;\"/>\r\n   </g>\r\n   <g id=\"patch_212\">\r\n    <path clip-path=\"url(#p7e730956e7)\" d=\"M 618.590074 333.36 \r\nL 620.607063 333.36 \r\nL 620.607063 328.341074 \r\nL 618.590074 328.341074 \r\nz\r\n\" style=\"fill:#1f77b4;\"/>\r\n   </g>\r\n   <g id=\"patch_213\">\r\n    <path clip-path=\"url(#p7e730956e7)\" d=\"M 621.111311 333.36 \r\nL 623.1283 333.36 \r\nL 623.1283 332.862415 \r\nL 621.111311 332.862415 \r\nz\r\n\" style=\"fill:#1f77b4;\"/>\r\n   </g>\r\n   <g id=\"patch_214\">\r\n    <path clip-path=\"url(#p7e730956e7)\" d=\"M 623.632547 333.36 \r\nL 625.649536 333.36 \r\nL 625.649536 330.723051 \r\nL 623.632547 330.723051 \r\nz\r\n\" style=\"fill:#1f77b4;\"/>\r\n   </g>\r\n   <g id=\"patch_215\">\r\n    <path clip-path=\"url(#p7e730956e7)\" d=\"M 626.153783 333.36 \r\nL 628.170772 333.36 \r\nL 628.170772 332.985835 \r\nL 626.153783 332.985835 \r\nz\r\n\" style=\"fill:#1f77b4;\"/>\r\n   </g>\r\n   <g id=\"patch_216\">\r\n    <path clip-path=\"url(#p7e730956e7)\" d=\"M 628.675019 333.36 \r\nL 630.692008 333.36 \r\nL 630.692008 331.77346 \r\nL 628.675019 331.77346 \r\nz\r\n\" style=\"fill:#1f77b4;\"/>\r\n   </g>\r\n   <g id=\"patch_217\">\r\n    <path clip-path=\"url(#p7e730956e7)\" d=\"M 631.196255 333.36 \r\nL 633.213244 333.36 \r\nL 633.213244 333.285571 \r\nL 631.196255 333.285571 \r\nz\r\n\" style=\"fill:#1f77b4;\"/>\r\n   </g>\r\n   <g id=\"patch_218\">\r\n    <path clip-path=\"url(#p7e730956e7)\" d=\"M 633.717492 333.36 \r\nL 635.734481 333.36 \r\nL 635.734481 331.859923 \r\nL 633.717492 331.859923 \r\nz\r\n\" style=\"fill:#1f77b4;\"/>\r\n   </g>\r\n   <g id=\"patch_219\">\r\n    <path clip-path=\"url(#p7e730956e7)\" d=\"M 636.238728 333.36 \r\nL 638.255717 333.36 \r\nL 638.255717 333.164869 \r\nL 636.238728 333.164869 \r\nz\r\n\" style=\"fill:#1f77b4;\"/>\r\n   </g>\r\n   <g id=\"patch_220\">\r\n    <path clip-path=\"url(#p7e730956e7)\" d=\"M 638.759964 333.36 \r\nL 640.776953 333.36 \r\nL 640.776953 332.628406 \r\nL 638.759964 332.628406 \r\nz\r\n\" style=\"fill:#1f77b4;\"/>\r\n   </g>\r\n   <g id=\"patch_221\">\r\n    <path clip-path=\"url(#p7e730956e7)\" d=\"M 641.2812 333.36 \r\nL 643.298189 333.36 \r\nL 643.298189 283.990671 \r\nL 641.2812 283.990671 \r\nz\r\n\" style=\"fill:#1f77b4;\"/>\r\n   </g>\r\n   <g id=\"patch_222\">\r\n    <path clip-path=\"url(#p7e730956e7)\" d=\"M 643.802437 333.36 \r\nL 645.819425 333.36 \r\nL 645.819425 330.02782 \r\nL 643.802437 330.02782 \r\nz\r\n\" style=\"fill:#1f77b4;\"/>\r\n   </g>\r\n   <g id=\"patch_223\">\r\n    <path clip-path=\"url(#p7e730956e7)\" d=\"M 646.323673 333.36 \r\nL 648.340662 333.36 \r\nL 648.340662 329.377536 \r\nL 646.323673 329.377536 \r\nz\r\n\" style=\"fill:#1f77b4;\"/>\r\n   </g>\r\n   <g id=\"patch_224\">\r\n    <path clip-path=\"url(#p7e730956e7)\" d=\"M 648.844909 333.36 \r\nL 650.861898 333.36 \r\nL 650.861898 333.079046 \r\nL 648.844909 333.079046 \r\nz\r\n\" style=\"fill:#1f77b4;\"/>\r\n   </g>\r\n   <g id=\"patch_225\">\r\n    <path clip-path=\"url(#p7e730956e7)\" d=\"M 651.366145 333.36 \r\nL 653.383134 333.36 \r\nL 653.383134 310.575339 \r\nL 651.366145 310.575339 \r\nz\r\n\" style=\"fill:#1f77b4;\"/>\r\n   </g>\r\n   <g id=\"patch_226\">\r\n    <path clip-path=\"url(#p7e730956e7)\" d=\"M 653.887381 333.36 \r\nL 655.90437 333.36 \r\nL 655.90437 318.227308 \r\nL 653.887381 318.227308 \r\nz\r\n\" style=\"fill:#1f77b4;\"/>\r\n   </g>\r\n   <g id=\"patch_227\">\r\n    <path clip-path=\"url(#p7e730956e7)\" d=\"M 656.408618 333.36 \r\nL 658.425607 333.36 \r\nL 658.425607 318.227308 \r\nL 656.408618 318.227308 \r\nz\r\n\" style=\"fill:#1f77b4;\"/>\r\n   </g>\r\n   <g id=\"patch_228\">\r\n    <path clip-path=\"url(#p7e730956e7)\" d=\"M 658.929854 333.36 \r\nL 660.946843 333.36 \r\nL 660.946843 326.908628 \r\nL 658.929854 326.908628 \r\nz\r\n\" style=\"fill:#1f77b4;\"/>\r\n   </g>\r\n   <g id=\"patch_229\">\r\n    <path clip-path=\"url(#p7e730956e7)\" d=\"M 661.45109 333.36 \r\nL 663.468079 333.36 \r\nL 663.468079 329.551693 \r\nL 661.45109 329.551693 \r\nz\r\n\" style=\"fill:#1f77b4;\"/>\r\n   </g>\r\n   <g id=\"patch_230\">\r\n    <path clip-path=\"url(#p7e730956e7)\" d=\"M 663.972326 333.36 \r\nL 665.989315 333.36 \r\nL 665.989315 332.689058 \r\nL 663.972326 332.689058 \r\nz\r\n\" style=\"fill:#1f77b4;\"/>\r\n   </g>\r\n   <g id=\"patch_231\">\r\n    <path clip-path=\"url(#p7e730956e7)\" d=\"M 0 0 \r\nz\r\n\" style=\"fill:#1f77b4;\"/>\r\n   </g>\r\n   <g id=\"patch_232\">\r\n    <path clip-path=\"url(#p7e730956e7)\" d=\"M 669.014799 333.36 \r\nL 671.031788 333.36 \r\nL 671.031788 321.764127 \r\nL 669.014799 321.764127 \r\nz\r\n\" style=\"fill:#1f77b4;\"/>\r\n   </g>\r\n   <g id=\"patch_233\">\r\n    <path clip-path=\"url(#p7e730956e7)\" d=\"M 671.536035 333.36 \r\nL 673.553024 333.36 \r\nL 673.553024 268.324478 \r\nL 671.536035 268.324478 \r\nz\r\n\" style=\"fill:#1f77b4;\"/>\r\n   </g>\r\n   <g id=\"patch_234\">\r\n    <path clip-path=\"url(#p7e730956e7)\" d=\"M 674.057271 333.36 \r\nL 676.07426 333.36 \r\nL 676.07426 327.824081 \r\nL 674.057271 327.824081 \r\nz\r\n\" style=\"fill:#1f77b4;\"/>\r\n   </g>\r\n   <g id=\"patch_235\">\r\n    <path clip-path=\"url(#p7e730956e7)\" d=\"M 676.578507 333.36 \r\nL 678.595496 333.36 \r\nL 678.595496 310.304789 \r\nL 676.578507 310.304789 \r\nz\r\n\" style=\"fill:#1f77b4;\"/>\r\n   </g>\r\n   <g id=\"patch_236\">\r\n    <path clip-path=\"url(#p7e730956e7)\" d=\"M 679.099744 333.36 \r\nL 681.116733 333.36 \r\nL 681.116733 265.718156 \r\nL 679.099744 265.718156 \r\nz\r\n\" style=\"fill:#1f77b4;\"/>\r\n   </g>\r\n   <g id=\"patch_237\">\r\n    <path clip-path=\"url(#p7e730956e7)\" d=\"M 681.62098 333.36 \r\nL 683.637969 333.36 \r\nL 683.637969 333.172701 \r\nL 681.62098 333.172701 \r\nz\r\n\" style=\"fill:#1f77b4;\"/>\r\n   </g>\r\n   <g id=\"patch_238\">\r\n    <path clip-path=\"url(#p7e730956e7)\" d=\"M 684.142216 333.36 \r\nL 686.159205 333.36 \r\nL 686.159205 332.310839 \r\nL 684.142216 332.310839 \r\nz\r\n\" style=\"fill:#1f77b4;\"/>\r\n   </g>\r\n   <g id=\"patch_239\">\r\n    <path clip-path=\"url(#p7e730956e7)\" d=\"M 686.663452 333.36 \r\nL 688.680441 333.36 \r\nL 688.680441 332.578344 \r\nL 686.663452 332.578344 \r\nz\r\n\" style=\"fill:#1f77b4;\"/>\r\n   </g>\r\n   <g id=\"patch_240\">\r\n    <path clip-path=\"url(#p7e730956e7)\" d=\"M 689.184688 333.36 \r\nL 691.201677 333.36 \r\nL 691.201677 332.080036 \r\nL 689.184688 332.080036 \r\nz\r\n\" style=\"fill:#1f77b4;\"/>\r\n   </g>\r\n   <g id=\"patch_241\">\r\n    <path clip-path=\"url(#p7e730956e7)\" d=\"M 691.705925 333.36 \r\nL 693.722914 333.36 \r\nL 693.722914 333.280278 \r\nL 691.705925 333.280278 \r\nz\r\n\" style=\"fill:#1f77b4;\"/>\r\n   </g>\r\n   <g id=\"patch_242\">\r\n    <path clip-path=\"url(#p7e730956e7)\" d=\"M 694.227161 333.36 \r\nL 696.24415 333.36 \r\nL 696.24415 333.273648 \r\nL 694.227161 333.273648 \r\nz\r\n\" style=\"fill:#1f77b4;\"/>\r\n   </g>\r\n   <g id=\"patch_243\">\r\n    <path clip-path=\"url(#p7e730956e7)\" d=\"M 696.748397 333.36 \r\nL 698.765386 333.36 \r\nL 698.765386 330.334562 \r\nL 696.748397 330.334562 \r\nz\r\n\" style=\"fill:#1f77b4;\"/>\r\n   </g>\r\n   <g id=\"patch_244\">\r\n    <path clip-path=\"url(#p7e730956e7)\" d=\"M 699.269633 333.36 \r\nL 701.286622 333.36 \r\nL 701.286622 321.062356 \r\nL 699.269633 321.062356 \r\nz\r\n\" style=\"fill:#1f77b4;\"/>\r\n   </g>\r\n   <g id=\"patch_245\">\r\n    <path clip-path=\"url(#p7e730956e7)\" d=\"M 701.79087 333.36 \r\nL 703.807859 333.36 \r\nL 703.807859 333.116755 \r\nL 701.79087 333.116755 \r\nz\r\n\" style=\"fill:#1f77b4;\"/>\r\n   </g>\r\n   <g id=\"patch_246\">\r\n    <path clip-path=\"url(#p7e730956e7)\" d=\"M 704.312106 333.36 \r\nL 706.329095 333.36 \r\nL 706.329095 309.450308 \r\nL 704.312106 309.450308 \r\nz\r\n\" style=\"fill:#1f77b4;\"/>\r\n   </g>\r\n   <g id=\"patch_247\">\r\n    <path clip-path=\"url(#p7e730956e7)\" d=\"M 706.833342 333.36 \r\nL 708.850331 333.36 \r\nL 708.850331 276.479464 \r\nL 706.833342 276.479464 \r\nz\r\n\" style=\"fill:#1f77b4;\"/>\r\n   </g>\r\n   <g id=\"patch_248\">\r\n    <path clip-path=\"url(#p7e730956e7)\" d=\"M 709.354578 333.36 \r\nL 711.371567 333.36 \r\nL 711.371567 332.584018 \r\nL 709.354578 332.584018 \r\nz\r\n\" style=\"fill:#1f77b4;\"/>\r\n   </g>\r\n   <g id=\"patch_249\">\r\n    <path clip-path=\"url(#p7e730956e7)\" d=\"M 711.875814 333.36 \r\nL 713.892803 333.36 \r\nL 713.892803 326.870829 \r\nL 711.875814 326.870829 \r\nz\r\n\" style=\"fill:#1f77b4;\"/>\r\n   </g>\r\n   <g id=\"patch_250\">\r\n    <path clip-path=\"url(#p7e730956e7)\" d=\"M 714.397051 333.36 \r\nL 716.41404 333.36 \r\nL 716.41404 333.214583 \r\nL 714.397051 333.214583 \r\nz\r\n\" style=\"fill:#1f77b4;\"/>\r\n   </g>\r\n   <g id=\"patch_251\">\r\n    <path clip-path=\"url(#p7e730956e7)\" d=\"M 716.918287 333.36 \r\nL 718.935276 333.36 \r\nL 718.935276 308.788742 \r\nL 716.918287 308.788742 \r\nz\r\n\" style=\"fill:#1f77b4;\"/>\r\n   </g>\r\n   <g id=\"patch_252\">\r\n    <path clip-path=\"url(#p7e730956e7)\" d=\"M 719.439523 333.36 \r\nL 721.456512 333.36 \r\nL 721.456512 333.227342 \r\nL 719.439523 333.227342 \r\nz\r\n\" style=\"fill:#1f77b4;\"/>\r\n   </g>\r\n   <g id=\"patch_253\">\r\n    <path clip-path=\"url(#p7e730956e7)\" d=\"M 721.960759 333.36 \r\nL 723.977748 333.36 \r\nL 723.977748 322.214905 \r\nL 721.960759 322.214905 \r\nz\r\n\" style=\"fill:#1f77b4;\"/>\r\n   </g>\r\n   <g id=\"patch_254\">\r\n    <path clip-path=\"url(#p7e730956e7)\" d=\"M 724.481996 333.36 \r\nL 726.498985 333.36 \r\nL 726.498985 332.264329 \r\nL 724.481996 332.264329 \r\nz\r\n\" style=\"fill:#1f77b4;\"/>\r\n   </g>\r\n   <g id=\"patch_255\">\r\n    <path clip-path=\"url(#p7e730956e7)\" d=\"M 727.003232 333.36 \r\nL 729.020221 333.36 \r\nL 729.020221 306.179916 \r\nL 727.003232 306.179916 \r\nz\r\n\" style=\"fill:#1f77b4;\"/>\r\n   </g>\r\n   <g id=\"patch_256\">\r\n    <path clip-path=\"url(#p7e730956e7)\" d=\"M 729.524468 333.36 \r\nL 731.541457 333.36 \r\nL 731.541457 320.915665 \r\nL 729.524468 320.915665 \r\nz\r\n\" style=\"fill:#1f77b4;\"/>\r\n   </g>\r\n   <g id=\"patch_257\">\r\n    <path clip-path=\"url(#p7e730956e7)\" d=\"M 732.045704 333.36 \r\nL 734.062693 333.36 \r\nL 734.062693 295.912312 \r\nL 732.045704 295.912312 \r\nz\r\n\" style=\"fill:#1f77b4;\"/>\r\n   </g>\r\n   <g id=\"patch_258\">\r\n    <path clip-path=\"url(#p7e730956e7)\" d=\"M 734.56694 333.36 \r\nL 736.583929 333.36 \r\nL 736.583929 320.915665 \r\nL 734.56694 320.915665 \r\nz\r\n\" style=\"fill:#1f77b4;\"/>\r\n   </g>\r\n   <g id=\"patch_259\">\r\n    <path clip-path=\"url(#p7e730956e7)\" d=\"M 737.088177 333.36 \r\nL 739.105166 333.36 \r\nL 739.105166 326.209782 \r\nL 737.088177 326.209782 \r\nz\r\n\" style=\"fill:#1f77b4;\"/>\r\n   </g>\r\n   <g id=\"patch_260\">\r\n    <path clip-path=\"url(#p7e730956e7)\" d=\"M 739.609413 333.36 \r\nL 741.626402 333.36 \r\nL 741.626402 293.398908 \r\nL 739.609413 293.398908 \r\nz\r\n\" style=\"fill:#1f77b4;\"/>\r\n   </g>\r\n   <g id=\"patch_261\">\r\n    <path clip-path=\"url(#p7e730956e7)\" d=\"M 742.130649 333.36 \r\nL 744.147638 333.36 \r\nL 744.147638 333.021654 \r\nL 742.130649 333.021654 \r\nz\r\n\" style=\"fill:#1f77b4;\"/>\r\n   </g>\r\n   <g id=\"patch_262\">\r\n    <path clip-path=\"url(#p7e730956e7)\" d=\"M 744.651885 333.36 \r\nL 746.668874 333.36 \r\nL 746.668874 330.062712 \r\nL 744.651885 330.062712 \r\nz\r\n\" style=\"fill:#1f77b4;\"/>\r\n   </g>\r\n   <g id=\"patch_263\">\r\n    <path clip-path=\"url(#p7e730956e7)\" d=\"M 747.173121 333.36 \r\nL 749.19011 333.36 \r\nL 749.19011 333.059038 \r\nL 747.173121 333.059038 \r\nz\r\n\" style=\"fill:#1f77b4;\"/>\r\n   </g>\r\n   <g id=\"patch_264\">\r\n    <path clip-path=\"url(#p7e730956e7)\" d=\"M 749.694358 333.36 \r\nL 751.711347 333.36 \r\nL 751.711347 320.915665 \r\nL 749.694358 320.915665 \r\nz\r\n\" style=\"fill:#1f77b4;\"/>\r\n   </g>\r\n   <g id=\"patch_265\">\r\n    <path clip-path=\"url(#p7e730956e7)\" d=\"M 752.215594 333.36 \r\nL 754.232583 333.36 \r\nL 754.232583 333.298047 \r\nL 752.215594 333.298047 \r\nz\r\n\" style=\"fill:#1f77b4;\"/>\r\n   </g>\r\n   <g id=\"patch_266\">\r\n    <path clip-path=\"url(#p7e730956e7)\" d=\"M 754.73683 333.36 \r\nL 756.753819 333.36 \r\nL 756.753819 321.654661 \r\nL 754.73683 321.654661 \r\nz\r\n\" style=\"fill:#1f77b4;\"/>\r\n   </g>\r\n   <g id=\"patch_267\">\r\n    <path clip-path=\"url(#p7e730956e7)\" d=\"M 757.258066 333.36 \r\nL 759.275055 333.36 \r\nL 759.275055 333.152371 \r\nL 757.258066 333.152371 \r\nz\r\n\" style=\"fill:#1f77b4;\"/>\r\n   </g>\r\n   <g id=\"patch_268\">\r\n    <path clip-path=\"url(#p7e730956e7)\" d=\"M 759.779303 333.36 \r\nL 761.796292 333.36 \r\nL 761.796292 329.705999 \r\nL 759.779303 329.705999 \r\nz\r\n\" style=\"fill:#1f77b4;\"/>\r\n   </g>\r\n   <g id=\"patch_269\">\r\n    <path clip-path=\"url(#p7e730956e7)\" d=\"M 762.300539 333.36 \r\nL 764.317528 333.36 \r\nL 764.317528 333.357738 \r\nL 762.300539 333.357738 \r\nz\r\n\" style=\"fill:#1f77b4;\"/>\r\n   </g>\r\n   <g id=\"patch_270\">\r\n    <path clip-path=\"url(#p7e730956e7)\" d=\"M 764.821775 333.36 \r\nL 766.838764 333.36 \r\nL 766.838764 320.915665 \r\nL 764.821775 320.915665 \r\nz\r\n\" style=\"fill:#1f77b4;\"/>\r\n   </g>\r\n   <g id=\"patch_271\">\r\n    <path clip-path=\"url(#p7e730956e7)\" d=\"M 767.343011 333.36 \r\nL 769.36 333.36 \r\nL 769.36 333.083361 \r\nL 767.343011 333.083361 \r\nz\r\n\" style=\"fill:#1f77b4;\"/>\r\n   </g>\r\n   <g id=\"patch_272\">\r\n    <path clip-path=\"url(#p7e730956e7)\" d=\"M 769.864247 333.36 \r\nL 771.881236 333.36 \r\nL 771.881236 317.301634 \r\nL 769.864247 317.301634 \r\nz\r\n\" style=\"fill:#1f77b4;\"/>\r\n   </g>\r\n   <g id=\"patch_273\">\r\n    <path clip-path=\"url(#p7e730956e7)\" d=\"M 772.385484 333.36 \r\nL 774.402473 333.36 \r\nL 774.402473 324.367072 \r\nL 772.385484 324.367072 \r\nz\r\n\" style=\"fill:#1f77b4;\"/>\r\n   </g>\r\n   <g id=\"patch_274\">\r\n    <path clip-path=\"url(#p7e730956e7)\" d=\"M 774.90672 333.36 \r\nL 776.923709 333.36 \r\nL 776.923709 332.252196 \r\nL 774.90672 332.252196 \r\nz\r\n\" style=\"fill:#1f77b4;\"/>\r\n   </g>\r\n   <g id=\"patch_275\">\r\n    <path clip-path=\"url(#p7e730956e7)\" d=\"M 777.427956 333.36 \r\nL 779.444945 333.36 \r\nL 779.444945 323.199224 \r\nL 777.427956 323.199224 \r\nz\r\n\" style=\"fill:#1f77b4;\"/>\r\n   </g>\r\n   <g id=\"patch_276\">\r\n    <path clip-path=\"url(#p7e730956e7)\" d=\"M 779.949192 333.36 \r\nL 781.966181 333.36 \r\nL 781.966181 327.150519 \r\nL 779.949192 327.150519 \r\nz\r\n\" style=\"fill:#1f77b4;\"/>\r\n   </g>\r\n   <g id=\"patch_277\">\r\n    <path clip-path=\"url(#p7e730956e7)\" d=\"M 782.470429 333.36 \r\nL 784.487418 333.36 \r\nL 784.487418 333.21108 \r\nL 782.470429 333.21108 \r\nz\r\n\" style=\"fill:#1f77b4;\"/>\r\n   </g>\r\n   <g id=\"patch_278\">\r\n    <path clip-path=\"url(#p7e730956e7)\" d=\"M 784.991665 333.36 \r\nL 787.008654 333.36 \r\nL 787.008654 333.277347 \r\nL 784.991665 333.277347 \r\nz\r\n\" style=\"fill:#1f77b4;\"/>\r\n   </g>\r\n   <g id=\"patch_279\">\r\n    <path clip-path=\"url(#p7e730956e7)\" d=\"M 787.512901 333.36 \r\nL 789.52989 333.36 \r\nL 789.52989 329.647683 \r\nL 787.512901 329.647683 \r\nz\r\n\" style=\"fill:#1f77b4;\"/>\r\n   </g>\r\n   <g id=\"patch_280\">\r\n    <path clip-path=\"url(#p7e730956e7)\" d=\"M 790.034137 333.36 \r\nL 792.051126 333.36 \r\nL 792.051126 333.352247 \r\nL 790.034137 333.352247 \r\nz\r\n\" style=\"fill:#1f77b4;\"/>\r\n   </g>\r\n   <g id=\"patch_281\">\r\n    <path clip-path=\"url(#p7e730956e7)\" d=\"M 792.555373 333.36 \r\nL 794.572362 333.36 \r\nL 794.572362 331.229737 \r\nL 792.555373 331.229737 \r\nz\r\n\" style=\"fill:#1f77b4;\"/>\r\n   </g>\r\n   <g id=\"patch_282\">\r\n    <path clip-path=\"url(#p7e730956e7)\" d=\"M 795.07661 333.36 \r\nL 797.093599 333.36 \r\nL 797.093599 330.385303 \r\nL 795.07661 330.385303 \r\nz\r\n\" style=\"fill:#1f77b4;\"/>\r\n   </g>\r\n   <g id=\"patch_283\">\r\n    <path clip-path=\"url(#p7e730956e7)\" d=\"M 797.597846 333.36 \r\nL 799.614835 333.36 \r\nL 799.614835 332.780957 \r\nL 797.597846 332.780957 \r\nz\r\n\" style=\"fill:#1f77b4;\"/>\r\n   </g>\r\n   <g id=\"patch_284\">\r\n    <path clip-path=\"url(#p7e730956e7)\" d=\"M 800.119082 333.36 \r\nL 802.136071 333.36 \r\nL 802.136071 328.475752 \r\nL 800.119082 328.475752 \r\nz\r\n\" style=\"fill:#1f77b4;\"/>\r\n   </g>\r\n   <g id=\"patch_285\">\r\n    <path clip-path=\"url(#p7e730956e7)\" d=\"M 802.640318 333.36 \r\nL 804.657307 333.36 \r\nL 804.657307 333.35762 \r\nL 802.640318 333.35762 \r\nz\r\n\" style=\"fill:#1f77b4;\"/>\r\n   </g>\r\n   <g id=\"patch_286\">\r\n    <path clip-path=\"url(#p7e730956e7)\" d=\"M 805.161555 333.36 \r\nL 807.178544 333.36 \r\nL 807.178544 332.911839 \r\nL 805.161555 332.911839 \r\nz\r\n\" style=\"fill:#1f77b4;\"/>\r\n   </g>\r\n   <g id=\"patch_287\">\r\n    <path clip-path=\"url(#p7e730956e7)\" d=\"M 807.682791 333.36 \r\nL 809.69978 333.36 \r\nL 809.69978 332.855467 \r\nL 807.682791 332.855467 \r\nz\r\n\" style=\"fill:#1f77b4;\"/>\r\n   </g>\r\n   <g id=\"patch_288\">\r\n    <path clip-path=\"url(#p7e730956e7)\" d=\"M 810.204027 333.36 \r\nL 812.221016 333.36 \r\nL 812.221016 332.938931 \r\nL 810.204027 332.938931 \r\nz\r\n\" style=\"fill:#1f77b4;\"/>\r\n   </g>\r\n   <g id=\"patch_289\">\r\n    <path clip-path=\"url(#p7e730956e7)\" d=\"M 812.725263 333.36 \r\nL 814.742252 333.36 \r\nL 814.742252 333.21108 \r\nL 812.725263 333.21108 \r\nz\r\n\" style=\"fill:#1f77b4;\"/>\r\n   </g>\r\n   <g id=\"patch_290\">\r\n    <path clip-path=\"url(#p7e730956e7)\" d=\"M 815.246499 333.36 \r\nL 817.263488 333.36 \r\nL 817.263488 331.543795 \r\nL 815.246499 331.543795 \r\nz\r\n\" style=\"fill:#1f77b4;\"/>\r\n   </g>\r\n   <g id=\"patch_291\">\r\n    <path clip-path=\"url(#p7e730956e7)\" d=\"M 817.767736 333.36 \r\nL 819.784725 333.36 \r\nL 819.784725 333.251406 \r\nL 817.767736 333.251406 \r\nz\r\n\" style=\"fill:#1f77b4;\"/>\r\n   </g>\r\n   <g id=\"patch_292\">\r\n    <path clip-path=\"url(#p7e730956e7)\" d=\"M 820.288972 333.36 \r\nL 822.305961 333.36 \r\nL 822.305961 332.866573 \r\nL 820.288972 332.866573 \r\nz\r\n\" style=\"fill:#1f77b4;\"/>\r\n   </g>\r\n   <g id=\"patch_293\">\r\n    <path clip-path=\"url(#p7e730956e7)\" d=\"M 822.810208 333.36 \r\nL 824.827197 333.36 \r\nL 824.827197 333.086087 \r\nL 822.810208 333.086087 \r\nz\r\n\" style=\"fill:#1f77b4;\"/>\r\n   </g>\r\n   <g id=\"patch_294\">\r\n    <path clip-path=\"url(#p7e730956e7)\" d=\"M 825.331444 333.36 \r\nL 827.348433 333.36 \r\nL 827.348433 333.25993 \r\nL 825.331444 333.25993 \r\nz\r\n\" style=\"fill:#1f77b4;\"/>\r\n   </g>\r\n   <g id=\"patch_295\">\r\n    <path clip-path=\"url(#p7e730956e7)\" d=\"M 827.852681 333.36 \r\nL 829.869669 333.36 \r\nL 829.869669 333.268969 \r\nL 827.852681 333.268969 \r\nz\r\n\" style=\"fill:#1f77b4;\"/>\r\n   </g>\r\n   <g id=\"patch_296\">\r\n    <path clip-path=\"url(#p7e730956e7)\" d=\"M 830.373917 333.36 \r\nL 832.390906 333.36 \r\nL 832.390906 307.357403 \r\nL 830.373917 307.357403 \r\nz\r\n\" style=\"fill:#1f77b4;\"/>\r\n   </g>\r\n   <g id=\"patch_297\">\r\n    <path clip-path=\"url(#p7e730956e7)\" d=\"M 832.895153 333.36 \r\nL 834.912142 333.36 \r\nL 834.912142 333.32907 \r\nL 832.895153 333.32907 \r\nz\r\n\" style=\"fill:#1f77b4;\"/>\r\n   </g>\r\n   <g id=\"patch_298\">\r\n    <path clip-path=\"url(#p7e730956e7)\" d=\"M 835.416389 333.36 \r\nL 837.433378 333.36 \r\nL 837.433378 322.24586 \r\nL 835.416389 322.24586 \r\nz\r\n\" style=\"fill:#1f77b4;\"/>\r\n   </g>\r\n   <g id=\"patch_299\">\r\n    <path clip-path=\"url(#p7e730956e7)\" d=\"M 837.937625 333.36 \r\nL 839.954614 333.36 \r\nL 839.954614 331.334955 \r\nL 837.937625 331.334955 \r\nz\r\n\" style=\"fill:#1f77b4;\"/>\r\n   </g>\r\n   <g id=\"patch_300\">\r\n    <path clip-path=\"url(#p7e730956e7)\" d=\"M 840.458862 333.36 \r\nL 842.475851 333.36 \r\nL 842.475851 332.603179 \r\nL 840.458862 332.603179 \r\nz\r\n\" style=\"fill:#1f77b4;\"/>\r\n   </g>\r\n   <g id=\"patch_301\">\r\n    <path clip-path=\"url(#p7e730956e7)\" d=\"M 842.980098 333.36 \r\nL 844.997087 333.36 \r\nL 844.997087 333.180192 \r\nL 842.980098 333.180192 \r\nz\r\n\" style=\"fill:#1f77b4;\"/>\r\n   </g>\r\n   <g id=\"patch_302\">\r\n    <path clip-path=\"url(#p7e730956e7)\" d=\"M 845.501334 333.36 \r\nL 847.518323 333.36 \r\nL 847.518323 332.869828 \r\nL 845.501334 332.869828 \r\nz\r\n\" style=\"fill:#1f77b4;\"/>\r\n   </g>\r\n   <g id=\"patch_303\">\r\n    <path clip-path=\"url(#p7e730956e7)\" d=\"M 848.02257 333.36 \r\nL 850.039559 333.36 \r\nL 850.039559 328.130835 \r\nL 848.02257 328.130835 \r\nz\r\n\" style=\"fill:#1f77b4;\"/>\r\n   </g>\r\n   <g id=\"patch_304\">\r\n    <path clip-path=\"url(#p7e730956e7)\" d=\"M 850.543806 333.36 \r\nL 852.560795 333.36 \r\nL 852.560795 307.252435 \r\nL 850.543806 307.252435 \r\nz\r\n\" style=\"fill:#1f77b4;\"/>\r\n   </g>\r\n   <g id=\"matplotlib.axis_1\">\r\n    <g id=\"xtick_1\">\r\n     <g id=\"line2d_1\">\r\n      <defs>\r\n       <path d=\"M 0 0 \r\nL 0 3.5 \r\n\" id=\"m091ec1eedc\" style=\"stroke:#000000;stroke-width:0.8;\"/>\r\n      </defs>\r\n      <g>\r\n       <use style=\"stroke:#000000;stroke-width:0.8;\" x=\"92.660199\" xlink:href=\"#m091ec1eedc\" y=\"333.36\"/>\r\n      </g>\r\n     </g>\r\n     <g id=\"text_1\">\r\n      <!-- 0 -->\r\n      <g transform=\"translate(89.478949 347.958438)scale(0.1 -0.1)\">\r\n       <defs>\r\n        <path d=\"M 31.78125 66.40625 \r\nQ 24.171875 66.40625 20.328125 58.90625 \r\nQ 16.5 51.421875 16.5 36.375 \r\nQ 16.5 21.390625 20.328125 13.890625 \r\nQ 24.171875 6.390625 31.78125 6.390625 \r\nQ 39.453125 6.390625 43.28125 13.890625 \r\nQ 47.125 21.390625 47.125 36.375 \r\nQ 47.125 51.421875 43.28125 58.90625 \r\nQ 39.453125 66.40625 31.78125 66.40625 \r\nz\r\nM 31.78125 74.21875 \r\nQ 44.046875 74.21875 50.515625 64.515625 \r\nQ 56.984375 54.828125 56.984375 36.375 \r\nQ 56.984375 17.96875 50.515625 8.265625 \r\nQ 44.046875 -1.421875 31.78125 -1.421875 \r\nQ 19.53125 -1.421875 13.0625 8.265625 \r\nQ 6.59375 17.96875 6.59375 36.375 \r\nQ 6.59375 54.828125 13.0625 64.515625 \r\nQ 19.53125 74.21875 31.78125 74.21875 \r\nz\r\n\" id=\"DejaVuSans-48\"/>\r\n       </defs>\r\n       <use xlink:href=\"#DejaVuSans-48\"/>\r\n      </g>\r\n     </g>\r\n    </g>\r\n    <g id=\"xtick_2\">\r\n     <g id=\"line2d_2\">\r\n      <g>\r\n       <use style=\"stroke:#000000;stroke-width:0.8;\" x=\"218.72201\" xlink:href=\"#m091ec1eedc\" y=\"333.36\"/>\r\n      </g>\r\n     </g>\r\n     <g id=\"text_2\">\r\n      <!-- 50 -->\r\n      <g transform=\"translate(212.35951 347.958438)scale(0.1 -0.1)\">\r\n       <defs>\r\n        <path d=\"M 10.796875 72.90625 \r\nL 49.515625 72.90625 \r\nL 49.515625 64.59375 \r\nL 19.828125 64.59375 \r\nL 19.828125 46.734375 \r\nQ 21.96875 47.46875 24.109375 47.828125 \r\nQ 26.265625 48.1875 28.421875 48.1875 \r\nQ 40.625 48.1875 47.75 41.5 \r\nQ 54.890625 34.8125 54.890625 23.390625 \r\nQ 54.890625 11.625 47.5625 5.09375 \r\nQ 40.234375 -1.421875 26.90625 -1.421875 \r\nQ 22.3125 -1.421875 17.546875 -0.640625 \r\nQ 12.796875 0.140625 7.71875 1.703125 \r\nL 7.71875 11.625 \r\nQ 12.109375 9.234375 16.796875 8.0625 \r\nQ 21.484375 6.890625 26.703125 6.890625 \r\nQ 35.15625 6.890625 40.078125 11.328125 \r\nQ 45.015625 15.765625 45.015625 23.390625 \r\nQ 45.015625 31 40.078125 35.4375 \r\nQ 35.15625 39.890625 26.703125 39.890625 \r\nQ 22.75 39.890625 18.8125 39.015625 \r\nQ 14.890625 38.140625 10.796875 36.28125 \r\nz\r\n\" id=\"DejaVuSans-53\"/>\r\n       </defs>\r\n       <use xlink:href=\"#DejaVuSans-53\"/>\r\n       <use x=\"63.623047\" xlink:href=\"#DejaVuSans-48\"/>\r\n      </g>\r\n     </g>\r\n    </g>\r\n    <g id=\"xtick_3\">\r\n     <g id=\"line2d_3\">\r\n      <g>\r\n       <use style=\"stroke:#000000;stroke-width:0.8;\" x=\"344.783821\" xlink:href=\"#m091ec1eedc\" y=\"333.36\"/>\r\n      </g>\r\n     </g>\r\n     <g id=\"text_3\">\r\n      <!-- 100 -->\r\n      <g transform=\"translate(335.240071 347.958438)scale(0.1 -0.1)\">\r\n       <defs>\r\n        <path d=\"M 12.40625 8.296875 \r\nL 28.515625 8.296875 \r\nL 28.515625 63.921875 \r\nL 10.984375 60.40625 \r\nL 10.984375 69.390625 \r\nL 28.421875 72.90625 \r\nL 38.28125 72.90625 \r\nL 38.28125 8.296875 \r\nL 54.390625 8.296875 \r\nL 54.390625 0 \r\nL 12.40625 0 \r\nz\r\n\" id=\"DejaVuSans-49\"/>\r\n       </defs>\r\n       <use xlink:href=\"#DejaVuSans-49\"/>\r\n       <use x=\"63.623047\" xlink:href=\"#DejaVuSans-48\"/>\r\n       <use x=\"127.246094\" xlink:href=\"#DejaVuSans-48\"/>\r\n      </g>\r\n     </g>\r\n    </g>\r\n    <g id=\"xtick_4\">\r\n     <g id=\"line2d_4\">\r\n      <g>\r\n       <use style=\"stroke:#000000;stroke-width:0.8;\" x=\"470.845632\" xlink:href=\"#m091ec1eedc\" y=\"333.36\"/>\r\n      </g>\r\n     </g>\r\n     <g id=\"text_4\">\r\n      <!-- 150 -->\r\n      <g transform=\"translate(461.301882 347.958438)scale(0.1 -0.1)\">\r\n       <use xlink:href=\"#DejaVuSans-49\"/>\r\n       <use x=\"63.623047\" xlink:href=\"#DejaVuSans-53\"/>\r\n       <use x=\"127.246094\" xlink:href=\"#DejaVuSans-48\"/>\r\n      </g>\r\n     </g>\r\n    </g>\r\n    <g id=\"xtick_5\">\r\n     <g id=\"line2d_5\">\r\n      <g>\r\n       <use style=\"stroke:#000000;stroke-width:0.8;\" x=\"596.907443\" xlink:href=\"#m091ec1eedc\" y=\"333.36\"/>\r\n      </g>\r\n     </g>\r\n     <g id=\"text_5\">\r\n      <!-- 200 -->\r\n      <g transform=\"translate(587.363693 347.958438)scale(0.1 -0.1)\">\r\n       <defs>\r\n        <path d=\"M 19.1875 8.296875 \r\nL 53.609375 8.296875 \r\nL 53.609375 0 \r\nL 7.328125 0 \r\nL 7.328125 8.296875 \r\nQ 12.9375 14.109375 22.625 23.890625 \r\nQ 32.328125 33.6875 34.8125 36.53125 \r\nQ 39.546875 41.84375 41.421875 45.53125 \r\nQ 43.3125 49.21875 43.3125 52.78125 \r\nQ 43.3125 58.59375 39.234375 62.25 \r\nQ 35.15625 65.921875 28.609375 65.921875 \r\nQ 23.96875 65.921875 18.8125 64.3125 \r\nQ 13.671875 62.703125 7.8125 59.421875 \r\nL 7.8125 69.390625 \r\nQ 13.765625 71.78125 18.9375 73 \r\nQ 24.125 74.21875 28.421875 74.21875 \r\nQ 39.75 74.21875 46.484375 68.546875 \r\nQ 53.21875 62.890625 53.21875 53.421875 \r\nQ 53.21875 48.921875 51.53125 44.890625 \r\nQ 49.859375 40.875 45.40625 35.40625 \r\nQ 44.1875 33.984375 37.640625 27.21875 \r\nQ 31.109375 20.453125 19.1875 8.296875 \r\nz\r\n\" id=\"DejaVuSans-50\"/>\r\n       </defs>\r\n       <use xlink:href=\"#DejaVuSans-50\"/>\r\n       <use x=\"63.623047\" xlink:href=\"#DejaVuSans-48\"/>\r\n       <use x=\"127.246094\" xlink:href=\"#DejaVuSans-48\"/>\r\n      </g>\r\n     </g>\r\n    </g>\r\n    <g id=\"xtick_6\">\r\n     <g id=\"line2d_6\">\r\n      <g>\r\n       <use style=\"stroke:#000000;stroke-width:0.8;\" x=\"722.969254\" xlink:href=\"#m091ec1eedc\" y=\"333.36\"/>\r\n      </g>\r\n     </g>\r\n     <g id=\"text_6\">\r\n      <!-- 250 -->\r\n      <g transform=\"translate(713.425504 347.958438)scale(0.1 -0.1)\">\r\n       <use xlink:href=\"#DejaVuSans-50\"/>\r\n       <use x=\"63.623047\" xlink:href=\"#DejaVuSans-53\"/>\r\n       <use x=\"127.246094\" xlink:href=\"#DejaVuSans-48\"/>\r\n      </g>\r\n     </g>\r\n    </g>\r\n    <g id=\"xtick_7\">\r\n     <g id=\"line2d_7\">\r\n      <g>\r\n       <use style=\"stroke:#000000;stroke-width:0.8;\" x=\"849.031065\" xlink:href=\"#m091ec1eedc\" y=\"333.36\"/>\r\n      </g>\r\n     </g>\r\n     <g id=\"text_7\">\r\n      <!-- 300 -->\r\n      <g transform=\"translate(839.487315 347.958438)scale(0.1 -0.1)\">\r\n       <defs>\r\n        <path d=\"M 40.578125 39.3125 \r\nQ 47.65625 37.796875 51.625 33 \r\nQ 55.609375 28.21875 55.609375 21.1875 \r\nQ 55.609375 10.40625 48.1875 4.484375 \r\nQ 40.765625 -1.421875 27.09375 -1.421875 \r\nQ 22.515625 -1.421875 17.65625 -0.515625 \r\nQ 12.796875 0.390625 7.625 2.203125 \r\nL 7.625 11.71875 \r\nQ 11.71875 9.328125 16.59375 8.109375 \r\nQ 21.484375 6.890625 26.8125 6.890625 \r\nQ 36.078125 6.890625 40.9375 10.546875 \r\nQ 45.796875 14.203125 45.796875 21.1875 \r\nQ 45.796875 27.640625 41.28125 31.265625 \r\nQ 36.765625 34.90625 28.71875 34.90625 \r\nL 20.21875 34.90625 \r\nL 20.21875 43.015625 \r\nL 29.109375 43.015625 \r\nQ 36.375 43.015625 40.234375 45.921875 \r\nQ 44.09375 48.828125 44.09375 54.296875 \r\nQ 44.09375 59.90625 40.109375 62.90625 \r\nQ 36.140625 65.921875 28.71875 65.921875 \r\nQ 24.65625 65.921875 20.015625 65.03125 \r\nQ 15.375 64.15625 9.8125 62.3125 \r\nL 9.8125 71.09375 \r\nQ 15.4375 72.65625 20.34375 73.4375 \r\nQ 25.25 74.21875 29.59375 74.21875 \r\nQ 40.828125 74.21875 47.359375 69.109375 \r\nQ 53.90625 64.015625 53.90625 55.328125 \r\nQ 53.90625 49.265625 50.4375 45.09375 \r\nQ 46.96875 40.921875 40.578125 39.3125 \r\nz\r\n\" id=\"DejaVuSans-51\"/>\r\n       </defs>\r\n       <use xlink:href=\"#DejaVuSans-51\"/>\r\n       <use x=\"63.623047\" xlink:href=\"#DejaVuSans-48\"/>\r\n       <use x=\"127.246094\" xlink:href=\"#DejaVuSans-48\"/>\r\n      </g>\r\n     </g>\r\n    </g>\r\n    <g id=\"text_8\">\r\n     <!-- feature index -->\r\n     <g transform=\"translate(438.7875 361.636562)scale(0.1 -0.1)\">\r\n      <defs>\r\n       <path d=\"M 37.109375 75.984375 \r\nL 37.109375 68.5 \r\nL 28.515625 68.5 \r\nQ 23.6875 68.5 21.796875 66.546875 \r\nQ 19.921875 64.59375 19.921875 59.515625 \r\nL 19.921875 54.6875 \r\nL 34.71875 54.6875 \r\nL 34.71875 47.703125 \r\nL 19.921875 47.703125 \r\nL 19.921875 0 \r\nL 10.890625 0 \r\nL 10.890625 47.703125 \r\nL 2.296875 47.703125 \r\nL 2.296875 54.6875 \r\nL 10.890625 54.6875 \r\nL 10.890625 58.5 \r\nQ 10.890625 67.625 15.140625 71.796875 \r\nQ 19.390625 75.984375 28.609375 75.984375 \r\nz\r\n\" id=\"DejaVuSans-102\"/>\r\n       <path d=\"M 56.203125 29.59375 \r\nL 56.203125 25.203125 \r\nL 14.890625 25.203125 \r\nQ 15.484375 15.921875 20.484375 11.0625 \r\nQ 25.484375 6.203125 34.421875 6.203125 \r\nQ 39.59375 6.203125 44.453125 7.46875 \r\nQ 49.3125 8.734375 54.109375 11.28125 \r\nL 54.109375 2.78125 \r\nQ 49.265625 0.734375 44.1875 -0.34375 \r\nQ 39.109375 -1.421875 33.890625 -1.421875 \r\nQ 20.796875 -1.421875 13.15625 6.1875 \r\nQ 5.515625 13.8125 5.515625 26.8125 \r\nQ 5.515625 40.234375 12.765625 48.109375 \r\nQ 20.015625 56 32.328125 56 \r\nQ 43.359375 56 49.78125 48.890625 \r\nQ 56.203125 41.796875 56.203125 29.59375 \r\nz\r\nM 47.21875 32.234375 \r\nQ 47.125 39.59375 43.09375 43.984375 \r\nQ 39.0625 48.390625 32.421875 48.390625 \r\nQ 24.90625 48.390625 20.390625 44.140625 \r\nQ 15.875 39.890625 15.1875 32.171875 \r\nz\r\n\" id=\"DejaVuSans-101\"/>\r\n       <path d=\"M 34.28125 27.484375 \r\nQ 23.390625 27.484375 19.1875 25 \r\nQ 14.984375 22.515625 14.984375 16.5 \r\nQ 14.984375 11.71875 18.140625 8.90625 \r\nQ 21.296875 6.109375 26.703125 6.109375 \r\nQ 34.1875 6.109375 38.703125 11.40625 \r\nQ 43.21875 16.703125 43.21875 25.484375 \r\nL 43.21875 27.484375 \r\nz\r\nM 52.203125 31.203125 \r\nL 52.203125 0 \r\nL 43.21875 0 \r\nL 43.21875 8.296875 \r\nQ 40.140625 3.328125 35.546875 0.953125 \r\nQ 30.953125 -1.421875 24.3125 -1.421875 \r\nQ 15.921875 -1.421875 10.953125 3.296875 \r\nQ 6 8.015625 6 15.921875 \r\nQ 6 25.140625 12.171875 29.828125 \r\nQ 18.359375 34.515625 30.609375 34.515625 \r\nL 43.21875 34.515625 \r\nL 43.21875 35.40625 \r\nQ 43.21875 41.609375 39.140625 45 \r\nQ 35.0625 48.390625 27.6875 48.390625 \r\nQ 23 48.390625 18.546875 47.265625 \r\nQ 14.109375 46.140625 10.015625 43.890625 \r\nL 10.015625 52.203125 \r\nQ 14.9375 54.109375 19.578125 55.046875 \r\nQ 24.21875 56 28.609375 56 \r\nQ 40.484375 56 46.34375 49.84375 \r\nQ 52.203125 43.703125 52.203125 31.203125 \r\nz\r\n\" id=\"DejaVuSans-97\"/>\r\n       <path d=\"M 18.3125 70.21875 \r\nL 18.3125 54.6875 \r\nL 36.8125 54.6875 \r\nL 36.8125 47.703125 \r\nL 18.3125 47.703125 \r\nL 18.3125 18.015625 \r\nQ 18.3125 11.328125 20.140625 9.421875 \r\nQ 21.96875 7.515625 27.59375 7.515625 \r\nL 36.8125 7.515625 \r\nL 36.8125 0 \r\nL 27.59375 0 \r\nQ 17.1875 0 13.234375 3.875 \r\nQ 9.28125 7.765625 9.28125 18.015625 \r\nL 9.28125 47.703125 \r\nL 2.6875 47.703125 \r\nL 2.6875 54.6875 \r\nL 9.28125 54.6875 \r\nL 9.28125 70.21875 \r\nz\r\n\" id=\"DejaVuSans-116\"/>\r\n       <path d=\"M 8.5 21.578125 \r\nL 8.5 54.6875 \r\nL 17.484375 54.6875 \r\nL 17.484375 21.921875 \r\nQ 17.484375 14.15625 20.5 10.265625 \r\nQ 23.53125 6.390625 29.59375 6.390625 \r\nQ 36.859375 6.390625 41.078125 11.03125 \r\nQ 45.3125 15.671875 45.3125 23.6875 \r\nL 45.3125 54.6875 \r\nL 54.296875 54.6875 \r\nL 54.296875 0 \r\nL 45.3125 0 \r\nL 45.3125 8.40625 \r\nQ 42.046875 3.421875 37.71875 1 \r\nQ 33.40625 -1.421875 27.6875 -1.421875 \r\nQ 18.265625 -1.421875 13.375 4.4375 \r\nQ 8.5 10.296875 8.5 21.578125 \r\nz\r\nM 31.109375 56 \r\nz\r\n\" id=\"DejaVuSans-117\"/>\r\n       <path d=\"M 41.109375 46.296875 \r\nQ 39.59375 47.171875 37.8125 47.578125 \r\nQ 36.03125 48 33.890625 48 \r\nQ 26.265625 48 22.1875 43.046875 \r\nQ 18.109375 38.09375 18.109375 28.8125 \r\nL 18.109375 0 \r\nL 9.078125 0 \r\nL 9.078125 54.6875 \r\nL 18.109375 54.6875 \r\nL 18.109375 46.1875 \r\nQ 20.953125 51.171875 25.484375 53.578125 \r\nQ 30.03125 56 36.53125 56 \r\nQ 37.453125 56 38.578125 55.875 \r\nQ 39.703125 55.765625 41.0625 55.515625 \r\nz\r\n\" id=\"DejaVuSans-114\"/>\r\n       <path id=\"DejaVuSans-32\"/>\r\n       <path d=\"M 9.421875 54.6875 \r\nL 18.40625 54.6875 \r\nL 18.40625 0 \r\nL 9.421875 0 \r\nz\r\nM 9.421875 75.984375 \r\nL 18.40625 75.984375 \r\nL 18.40625 64.59375 \r\nL 9.421875 64.59375 \r\nz\r\n\" id=\"DejaVuSans-105\"/>\r\n       <path d=\"M 54.890625 33.015625 \r\nL 54.890625 0 \r\nL 45.90625 0 \r\nL 45.90625 32.71875 \r\nQ 45.90625 40.484375 42.875 44.328125 \r\nQ 39.84375 48.1875 33.796875 48.1875 \r\nQ 26.515625 48.1875 22.3125 43.546875 \r\nQ 18.109375 38.921875 18.109375 30.90625 \r\nL 18.109375 0 \r\nL 9.078125 0 \r\nL 9.078125 54.6875 \r\nL 18.109375 54.6875 \r\nL 18.109375 46.1875 \r\nQ 21.34375 51.125 25.703125 53.5625 \r\nQ 30.078125 56 35.796875 56 \r\nQ 45.21875 56 50.046875 50.171875 \r\nQ 54.890625 44.34375 54.890625 33.015625 \r\nz\r\n\" id=\"DejaVuSans-110\"/>\r\n       <path d=\"M 45.40625 46.390625 \r\nL 45.40625 75.984375 \r\nL 54.390625 75.984375 \r\nL 54.390625 0 \r\nL 45.40625 0 \r\nL 45.40625 8.203125 \r\nQ 42.578125 3.328125 38.25 0.953125 \r\nQ 33.9375 -1.421875 27.875 -1.421875 \r\nQ 17.96875 -1.421875 11.734375 6.484375 \r\nQ 5.515625 14.40625 5.515625 27.296875 \r\nQ 5.515625 40.1875 11.734375 48.09375 \r\nQ 17.96875 56 27.875 56 \r\nQ 33.9375 56 38.25 53.625 \r\nQ 42.578125 51.265625 45.40625 46.390625 \r\nz\r\nM 14.796875 27.296875 \r\nQ 14.796875 17.390625 18.875 11.75 \r\nQ 22.953125 6.109375 30.078125 6.109375 \r\nQ 37.203125 6.109375 41.296875 11.75 \r\nQ 45.40625 17.390625 45.40625 27.296875 \r\nQ 45.40625 37.203125 41.296875 42.84375 \r\nQ 37.203125 48.484375 30.078125 48.484375 \r\nQ 22.953125 48.484375 18.875 42.84375 \r\nQ 14.796875 37.203125 14.796875 27.296875 \r\nz\r\n\" id=\"DejaVuSans-100\"/>\r\n       <path d=\"M 54.890625 54.6875 \r\nL 35.109375 28.078125 \r\nL 55.90625 0 \r\nL 45.3125 0 \r\nL 29.390625 21.484375 \r\nL 13.484375 0 \r\nL 2.875 0 \r\nL 24.125 28.609375 \r\nL 4.6875 54.6875 \r\nL 15.28125 54.6875 \r\nL 29.78125 35.203125 \r\nL 44.28125 54.6875 \r\nz\r\n\" id=\"DejaVuSans-120\"/>\r\n      </defs>\r\n      <use xlink:href=\"#DejaVuSans-102\"/>\r\n      <use x=\"35.205078\" xlink:href=\"#DejaVuSans-101\"/>\r\n      <use x=\"96.728516\" xlink:href=\"#DejaVuSans-97\"/>\r\n      <use x=\"158.007812\" xlink:href=\"#DejaVuSans-116\"/>\r\n      <use x=\"197.216797\" xlink:href=\"#DejaVuSans-117\"/>\r\n      <use x=\"260.595703\" xlink:href=\"#DejaVuSans-114\"/>\r\n      <use x=\"299.458984\" xlink:href=\"#DejaVuSans-101\"/>\r\n      <use x=\"360.982422\" xlink:href=\"#DejaVuSans-32\"/>\r\n      <use x=\"392.769531\" xlink:href=\"#DejaVuSans-105\"/>\r\n      <use x=\"420.552734\" xlink:href=\"#DejaVuSans-110\"/>\r\n      <use x=\"483.931641\" xlink:href=\"#DejaVuSans-100\"/>\r\n      <use x=\"547.408203\" xlink:href=\"#DejaVuSans-101\"/>\r\n      <use x=\"607.181641\" xlink:href=\"#DejaVuSans-120\"/>\r\n     </g>\r\n    </g>\r\n   </g>\r\n   <g id=\"matplotlib.axis_2\">\r\n    <g id=\"ytick_1\">\r\n     <g id=\"line2d_8\">\r\n      <defs>\r\n       <path d=\"M 0 0 \r\nL -3.5 0 \r\n\" id=\"m143049561a\" style=\"stroke:#000000;stroke-width:0.8;\"/>\r\n      </defs>\r\n      <g>\r\n       <use style=\"stroke:#000000;stroke-width:0.8;\" x=\"53.60625\" xlink:href=\"#m143049561a\" y=\"333.36\"/>\r\n      </g>\r\n     </g>\r\n     <g id=\"text_9\">\r\n      <!-- 0 -->\r\n      <g transform=\"translate(40.24375 337.159219)scale(0.1 -0.1)\">\r\n       <use xlink:href=\"#DejaVuSans-48\"/>\r\n      </g>\r\n     </g>\r\n    </g>\r\n    <g id=\"ytick_2\">\r\n     <g id=\"line2d_9\">\r\n      <g>\r\n       <use style=\"stroke:#000000;stroke-width:0.8;\" x=\"53.60625\" xlink:href=\"#m143049561a\" y=\"295.357196\"/>\r\n      </g>\r\n     </g>\r\n     <g id=\"text_10\">\r\n      <!-- 200 -->\r\n      <g transform=\"translate(27.51875 299.156415)scale(0.1 -0.1)\">\r\n       <use xlink:href=\"#DejaVuSans-50\"/>\r\n       <use x=\"63.623047\" xlink:href=\"#DejaVuSans-48\"/>\r\n       <use x=\"127.246094\" xlink:href=\"#DejaVuSans-48\"/>\r\n      </g>\r\n     </g>\r\n    </g>\r\n    <g id=\"ytick_3\">\r\n     <g id=\"line2d_10\">\r\n      <g>\r\n       <use style=\"stroke:#000000;stroke-width:0.8;\" x=\"53.60625\" xlink:href=\"#m143049561a\" y=\"257.354392\"/>\r\n      </g>\r\n     </g>\r\n     <g id=\"text_11\">\r\n      <!-- 400 -->\r\n      <g transform=\"translate(27.51875 261.153611)scale(0.1 -0.1)\">\r\n       <defs>\r\n        <path d=\"M 37.796875 64.3125 \r\nL 12.890625 25.390625 \r\nL 37.796875 25.390625 \r\nz\r\nM 35.203125 72.90625 \r\nL 47.609375 72.90625 \r\nL 47.609375 25.390625 \r\nL 58.015625 25.390625 \r\nL 58.015625 17.1875 \r\nL 47.609375 17.1875 \r\nL 47.609375 0 \r\nL 37.796875 0 \r\nL 37.796875 17.1875 \r\nL 4.890625 17.1875 \r\nL 4.890625 26.703125 \r\nz\r\n\" id=\"DejaVuSans-52\"/>\r\n       </defs>\r\n       <use xlink:href=\"#DejaVuSans-52\"/>\r\n       <use x=\"63.623047\" xlink:href=\"#DejaVuSans-48\"/>\r\n       <use x=\"127.246094\" xlink:href=\"#DejaVuSans-48\"/>\r\n      </g>\r\n     </g>\r\n    </g>\r\n    <g id=\"ytick_4\">\r\n     <g id=\"line2d_11\">\r\n      <g>\r\n       <use style=\"stroke:#000000;stroke-width:0.8;\" x=\"53.60625\" xlink:href=\"#m143049561a\" y=\"219.351588\"/>\r\n      </g>\r\n     </g>\r\n     <g id=\"text_12\">\r\n      <!-- 600 -->\r\n      <g transform=\"translate(27.51875 223.150806)scale(0.1 -0.1)\">\r\n       <defs>\r\n        <path d=\"M 33.015625 40.375 \r\nQ 26.375 40.375 22.484375 35.828125 \r\nQ 18.609375 31.296875 18.609375 23.390625 \r\nQ 18.609375 15.53125 22.484375 10.953125 \r\nQ 26.375 6.390625 33.015625 6.390625 \r\nQ 39.65625 6.390625 43.53125 10.953125 \r\nQ 47.40625 15.53125 47.40625 23.390625 \r\nQ 47.40625 31.296875 43.53125 35.828125 \r\nQ 39.65625 40.375 33.015625 40.375 \r\nz\r\nM 52.59375 71.296875 \r\nL 52.59375 62.3125 \r\nQ 48.875 64.0625 45.09375 64.984375 \r\nQ 41.3125 65.921875 37.59375 65.921875 \r\nQ 27.828125 65.921875 22.671875 59.328125 \r\nQ 17.53125 52.734375 16.796875 39.40625 \r\nQ 19.671875 43.65625 24.015625 45.921875 \r\nQ 28.375 48.1875 33.59375 48.1875 \r\nQ 44.578125 48.1875 50.953125 41.515625 \r\nQ 57.328125 34.859375 57.328125 23.390625 \r\nQ 57.328125 12.15625 50.6875 5.359375 \r\nQ 44.046875 -1.421875 33.015625 -1.421875 \r\nQ 20.359375 -1.421875 13.671875 8.265625 \r\nQ 6.984375 17.96875 6.984375 36.375 \r\nQ 6.984375 53.65625 15.1875 63.9375 \r\nQ 23.390625 74.21875 37.203125 74.21875 \r\nQ 40.921875 74.21875 44.703125 73.484375 \r\nQ 48.484375 72.75 52.59375 71.296875 \r\nz\r\n\" id=\"DejaVuSans-54\"/>\r\n       </defs>\r\n       <use xlink:href=\"#DejaVuSans-54\"/>\r\n       <use x=\"63.623047\" xlink:href=\"#DejaVuSans-48\"/>\r\n       <use x=\"127.246094\" xlink:href=\"#DejaVuSans-48\"/>\r\n      </g>\r\n     </g>\r\n    </g>\r\n    <g id=\"ytick_5\">\r\n     <g id=\"line2d_12\">\r\n      <g>\r\n       <use style=\"stroke:#000000;stroke-width:0.8;\" x=\"53.60625\" xlink:href=\"#m143049561a\" y=\"181.348784\"/>\r\n      </g>\r\n     </g>\r\n     <g id=\"text_13\">\r\n      <!-- 800 -->\r\n      <g transform=\"translate(27.51875 185.148002)scale(0.1 -0.1)\">\r\n       <defs>\r\n        <path d=\"M 31.78125 34.625 \r\nQ 24.75 34.625 20.71875 30.859375 \r\nQ 16.703125 27.09375 16.703125 20.515625 \r\nQ 16.703125 13.921875 20.71875 10.15625 \r\nQ 24.75 6.390625 31.78125 6.390625 \r\nQ 38.8125 6.390625 42.859375 10.171875 \r\nQ 46.921875 13.96875 46.921875 20.515625 \r\nQ 46.921875 27.09375 42.890625 30.859375 \r\nQ 38.875 34.625 31.78125 34.625 \r\nz\r\nM 21.921875 38.8125 \r\nQ 15.578125 40.375 12.03125 44.71875 \r\nQ 8.5 49.078125 8.5 55.328125 \r\nQ 8.5 64.0625 14.71875 69.140625 \r\nQ 20.953125 74.21875 31.78125 74.21875 \r\nQ 42.671875 74.21875 48.875 69.140625 \r\nQ 55.078125 64.0625 55.078125 55.328125 \r\nQ 55.078125 49.078125 51.53125 44.71875 \r\nQ 48 40.375 41.703125 38.8125 \r\nQ 48.828125 37.15625 52.796875 32.3125 \r\nQ 56.78125 27.484375 56.78125 20.515625 \r\nQ 56.78125 9.90625 50.3125 4.234375 \r\nQ 43.84375 -1.421875 31.78125 -1.421875 \r\nQ 19.734375 -1.421875 13.25 4.234375 \r\nQ 6.78125 9.90625 6.78125 20.515625 \r\nQ 6.78125 27.484375 10.78125 32.3125 \r\nQ 14.796875 37.15625 21.921875 38.8125 \r\nz\r\nM 18.3125 54.390625 \r\nQ 18.3125 48.734375 21.84375 45.5625 \r\nQ 25.390625 42.390625 31.78125 42.390625 \r\nQ 38.140625 42.390625 41.71875 45.5625 \r\nQ 45.3125 48.734375 45.3125 54.390625 \r\nQ 45.3125 60.0625 41.71875 63.234375 \r\nQ 38.140625 66.40625 31.78125 66.40625 \r\nQ 25.390625 66.40625 21.84375 63.234375 \r\nQ 18.3125 60.0625 18.3125 54.390625 \r\nz\r\n\" id=\"DejaVuSans-56\"/>\r\n       </defs>\r\n       <use xlink:href=\"#DejaVuSans-56\"/>\r\n       <use x=\"63.623047\" xlink:href=\"#DejaVuSans-48\"/>\r\n       <use x=\"127.246094\" xlink:href=\"#DejaVuSans-48\"/>\r\n      </g>\r\n     </g>\r\n    </g>\r\n    <g id=\"ytick_6\">\r\n     <g id=\"line2d_13\">\r\n      <g>\r\n       <use style=\"stroke:#000000;stroke-width:0.8;\" x=\"53.60625\" xlink:href=\"#m143049561a\" y=\"143.34598\"/>\r\n      </g>\r\n     </g>\r\n     <g id=\"text_14\">\r\n      <!-- 1000 -->\r\n      <g transform=\"translate(21.15625 147.145198)scale(0.1 -0.1)\">\r\n       <use xlink:href=\"#DejaVuSans-49\"/>\r\n       <use x=\"63.623047\" xlink:href=\"#DejaVuSans-48\"/>\r\n       <use x=\"127.246094\" xlink:href=\"#DejaVuSans-48\"/>\r\n       <use x=\"190.869141\" xlink:href=\"#DejaVuSans-48\"/>\r\n      </g>\r\n     </g>\r\n    </g>\r\n    <g id=\"ytick_7\">\r\n     <g id=\"line2d_14\">\r\n      <g>\r\n       <use style=\"stroke:#000000;stroke-width:0.8;\" x=\"53.60625\" xlink:href=\"#m143049561a\" y=\"105.343175\"/>\r\n      </g>\r\n     </g>\r\n     <g id=\"text_15\">\r\n      <!-- 1200 -->\r\n      <g transform=\"translate(21.15625 109.142394)scale(0.1 -0.1)\">\r\n       <use xlink:href=\"#DejaVuSans-49\"/>\r\n       <use x=\"63.623047\" xlink:href=\"#DejaVuSans-50\"/>\r\n       <use x=\"127.246094\" xlink:href=\"#DejaVuSans-48\"/>\r\n       <use x=\"190.869141\" xlink:href=\"#DejaVuSans-48\"/>\r\n      </g>\r\n     </g>\r\n    </g>\r\n    <g id=\"ytick_8\">\r\n     <g id=\"line2d_15\">\r\n      <g>\r\n       <use style=\"stroke:#000000;stroke-width:0.8;\" x=\"53.60625\" xlink:href=\"#m143049561a\" y=\"67.340371\"/>\r\n      </g>\r\n     </g>\r\n     <g id=\"text_16\">\r\n      <!-- 1400 -->\r\n      <g transform=\"translate(21.15625 71.13959)scale(0.1 -0.1)\">\r\n       <use xlink:href=\"#DejaVuSans-49\"/>\r\n       <use x=\"63.623047\" xlink:href=\"#DejaVuSans-52\"/>\r\n       <use x=\"127.246094\" xlink:href=\"#DejaVuSans-48\"/>\r\n       <use x=\"190.869141\" xlink:href=\"#DejaVuSans-48\"/>\r\n      </g>\r\n     </g>\r\n    </g>\r\n    <g id=\"ytick_9\">\r\n     <g id=\"line2d_16\">\r\n      <g>\r\n       <use style=\"stroke:#000000;stroke-width:0.8;\" x=\"53.60625\" xlink:href=\"#m143049561a\" y=\"29.337567\"/>\r\n      </g>\r\n     </g>\r\n     <g id=\"text_17\">\r\n      <!-- 1600 -->\r\n      <g transform=\"translate(21.15625 33.136786)scale(0.1 -0.1)\">\r\n       <use xlink:href=\"#DejaVuSans-49\"/>\r\n       <use x=\"63.623047\" xlink:href=\"#DejaVuSans-54\"/>\r\n       <use x=\"127.246094\" xlink:href=\"#DejaVuSans-48\"/>\r\n       <use x=\"190.869141\" xlink:href=\"#DejaVuSans-48\"/>\r\n      </g>\r\n     </g>\r\n    </g>\r\n    <g id=\"text_18\">\r\n     <!--  f_selector (f_regression) -->\r\n     <g transform=\"translate(14.798437 231.890937)rotate(-90)scale(0.1 -0.1)\">\r\n      <defs>\r\n       <path d=\"M 50.984375 -16.609375 \r\nL 50.984375 -23.578125 \r\nL -0.984375 -23.578125 \r\nL -0.984375 -16.609375 \r\nz\r\n\" id=\"DejaVuSans-95\"/>\r\n       <path d=\"M 44.28125 53.078125 \r\nL 44.28125 44.578125 \r\nQ 40.484375 46.53125 36.375 47.5 \r\nQ 32.28125 48.484375 27.875 48.484375 \r\nQ 21.1875 48.484375 17.84375 46.4375 \r\nQ 14.5 44.390625 14.5 40.28125 \r\nQ 14.5 37.15625 16.890625 35.375 \r\nQ 19.28125 33.59375 26.515625 31.984375 \r\nL 29.59375 31.296875 \r\nQ 39.15625 29.25 43.1875 25.515625 \r\nQ 47.21875 21.78125 47.21875 15.09375 \r\nQ 47.21875 7.46875 41.1875 3.015625 \r\nQ 35.15625 -1.421875 24.609375 -1.421875 \r\nQ 20.21875 -1.421875 15.453125 -0.5625 \r\nQ 10.6875 0.296875 5.421875 2 \r\nL 5.421875 11.28125 \r\nQ 10.40625 8.6875 15.234375 7.390625 \r\nQ 20.0625 6.109375 24.8125 6.109375 \r\nQ 31.15625 6.109375 34.5625 8.28125 \r\nQ 37.984375 10.453125 37.984375 14.40625 \r\nQ 37.984375 18.0625 35.515625 20.015625 \r\nQ 33.0625 21.96875 24.703125 23.78125 \r\nL 21.578125 24.515625 \r\nQ 13.234375 26.265625 9.515625 29.90625 \r\nQ 5.8125 33.546875 5.8125 39.890625 \r\nQ 5.8125 47.609375 11.28125 51.796875 \r\nQ 16.75 56 26.8125 56 \r\nQ 31.78125 56 36.171875 55.265625 \r\nQ 40.578125 54.546875 44.28125 53.078125 \r\nz\r\n\" id=\"DejaVuSans-115\"/>\r\n       <path d=\"M 9.421875 75.984375 \r\nL 18.40625 75.984375 \r\nL 18.40625 0 \r\nL 9.421875 0 \r\nz\r\n\" id=\"DejaVuSans-108\"/>\r\n       <path d=\"M 48.78125 52.59375 \r\nL 48.78125 44.1875 \r\nQ 44.96875 46.296875 41.140625 47.34375 \r\nQ 37.3125 48.390625 33.40625 48.390625 \r\nQ 24.65625 48.390625 19.8125 42.84375 \r\nQ 14.984375 37.3125 14.984375 27.296875 \r\nQ 14.984375 17.28125 19.8125 11.734375 \r\nQ 24.65625 6.203125 33.40625 6.203125 \r\nQ 37.3125 6.203125 41.140625 7.25 \r\nQ 44.96875 8.296875 48.78125 10.40625 \r\nL 48.78125 2.09375 \r\nQ 45.015625 0.34375 40.984375 -0.53125 \r\nQ 36.96875 -1.421875 32.421875 -1.421875 \r\nQ 20.0625 -1.421875 12.78125 6.34375 \r\nQ 5.515625 14.109375 5.515625 27.296875 \r\nQ 5.515625 40.671875 12.859375 48.328125 \r\nQ 20.21875 56 33.015625 56 \r\nQ 37.15625 56 41.109375 55.140625 \r\nQ 45.0625 54.296875 48.78125 52.59375 \r\nz\r\n\" id=\"DejaVuSans-99\"/>\r\n       <path d=\"M 30.609375 48.390625 \r\nQ 23.390625 48.390625 19.1875 42.75 \r\nQ 14.984375 37.109375 14.984375 27.296875 \r\nQ 14.984375 17.484375 19.15625 11.84375 \r\nQ 23.34375 6.203125 30.609375 6.203125 \r\nQ 37.796875 6.203125 41.984375 11.859375 \r\nQ 46.1875 17.53125 46.1875 27.296875 \r\nQ 46.1875 37.015625 41.984375 42.703125 \r\nQ 37.796875 48.390625 30.609375 48.390625 \r\nz\r\nM 30.609375 56 \r\nQ 42.328125 56 49.015625 48.375 \r\nQ 55.71875 40.765625 55.71875 27.296875 \r\nQ 55.71875 13.875 49.015625 6.21875 \r\nQ 42.328125 -1.421875 30.609375 -1.421875 \r\nQ 18.84375 -1.421875 12.171875 6.21875 \r\nQ 5.515625 13.875 5.515625 27.296875 \r\nQ 5.515625 40.765625 12.171875 48.375 \r\nQ 18.84375 56 30.609375 56 \r\nz\r\n\" id=\"DejaVuSans-111\"/>\r\n       <path d=\"M 31 75.875 \r\nQ 24.46875 64.65625 21.28125 53.65625 \r\nQ 18.109375 42.671875 18.109375 31.390625 \r\nQ 18.109375 20.125 21.3125 9.0625 \r\nQ 24.515625 -2 31 -13.1875 \r\nL 23.1875 -13.1875 \r\nQ 15.875 -1.703125 12.234375 9.375 \r\nQ 8.59375 20.453125 8.59375 31.390625 \r\nQ 8.59375 42.28125 12.203125 53.3125 \r\nQ 15.828125 64.359375 23.1875 75.875 \r\nz\r\n\" id=\"DejaVuSans-40\"/>\r\n       <path d=\"M 45.40625 27.984375 \r\nQ 45.40625 37.75 41.375 43.109375 \r\nQ 37.359375 48.484375 30.078125 48.484375 \r\nQ 22.859375 48.484375 18.828125 43.109375 \r\nQ 14.796875 37.75 14.796875 27.984375 \r\nQ 14.796875 18.265625 18.828125 12.890625 \r\nQ 22.859375 7.515625 30.078125 7.515625 \r\nQ 37.359375 7.515625 41.375 12.890625 \r\nQ 45.40625 18.265625 45.40625 27.984375 \r\nz\r\nM 54.390625 6.78125 \r\nQ 54.390625 -7.171875 48.1875 -13.984375 \r\nQ 42 -20.796875 29.203125 -20.796875 \r\nQ 24.46875 -20.796875 20.265625 -20.09375 \r\nQ 16.0625 -19.390625 12.109375 -17.921875 \r\nL 12.109375 -9.1875 \r\nQ 16.0625 -11.328125 19.921875 -12.34375 \r\nQ 23.78125 -13.375 27.78125 -13.375 \r\nQ 36.625 -13.375 41.015625 -8.765625 \r\nQ 45.40625 -4.15625 45.40625 5.171875 \r\nL 45.40625 9.625 \r\nQ 42.625 4.78125 38.28125 2.390625 \r\nQ 33.9375 0 27.875 0 \r\nQ 17.828125 0 11.671875 7.65625 \r\nQ 5.515625 15.328125 5.515625 27.984375 \r\nQ 5.515625 40.671875 11.671875 48.328125 \r\nQ 17.828125 56 27.875 56 \r\nQ 33.9375 56 38.28125 53.609375 \r\nQ 42.625 51.21875 45.40625 46.390625 \r\nL 45.40625 54.6875 \r\nL 54.390625 54.6875 \r\nz\r\n\" id=\"DejaVuSans-103\"/>\r\n       <path d=\"M 8.015625 75.875 \r\nL 15.828125 75.875 \r\nQ 23.140625 64.359375 26.78125 53.3125 \r\nQ 30.421875 42.28125 30.421875 31.390625 \r\nQ 30.421875 20.453125 26.78125 9.375 \r\nQ 23.140625 -1.703125 15.828125 -13.1875 \r\nL 8.015625 -13.1875 \r\nQ 14.5 -2 17.703125 9.0625 \r\nQ 20.90625 20.125 20.90625 31.390625 \r\nQ 20.90625 42.671875 17.703125 53.65625 \r\nQ 14.5 64.65625 8.015625 75.875 \r\nz\r\n\" id=\"DejaVuSans-41\"/>\r\n      </defs>\r\n      <use xlink:href=\"#DejaVuSans-32\"/>\r\n      <use x=\"31.787109\" xlink:href=\"#DejaVuSans-102\"/>\r\n      <use x=\"66.992188\" xlink:href=\"#DejaVuSans-95\"/>\r\n      <use x=\"116.992188\" xlink:href=\"#DejaVuSans-115\"/>\r\n      <use x=\"169.091797\" xlink:href=\"#DejaVuSans-101\"/>\r\n      <use x=\"230.615234\" xlink:href=\"#DejaVuSans-108\"/>\r\n      <use x=\"258.398438\" xlink:href=\"#DejaVuSans-101\"/>\r\n      <use x=\"319.921875\" xlink:href=\"#DejaVuSans-99\"/>\r\n      <use x=\"374.902344\" xlink:href=\"#DejaVuSans-116\"/>\r\n      <use x=\"414.111328\" xlink:href=\"#DejaVuSans-111\"/>\r\n      <use x=\"475.292969\" xlink:href=\"#DejaVuSans-114\"/>\r\n      <use x=\"516.40625\" xlink:href=\"#DejaVuSans-32\"/>\r\n      <use x=\"548.193359\" xlink:href=\"#DejaVuSans-40\"/>\r\n      <use x=\"587.207031\" xlink:href=\"#DejaVuSans-102\"/>\r\n      <use x=\"622.412109\" xlink:href=\"#DejaVuSans-95\"/>\r\n      <use x=\"672.412109\" xlink:href=\"#DejaVuSans-114\"/>\r\n      <use x=\"711.275391\" xlink:href=\"#DejaVuSans-101\"/>\r\n      <use x=\"772.798828\" xlink:href=\"#DejaVuSans-103\"/>\r\n      <use x=\"836.275391\" xlink:href=\"#DejaVuSans-114\"/>\r\n      <use x=\"875.138672\" xlink:href=\"#DejaVuSans-101\"/>\r\n      <use x=\"936.662109\" xlink:href=\"#DejaVuSans-115\"/>\r\n      <use x=\"988.761719\" xlink:href=\"#DejaVuSans-115\"/>\r\n      <use x=\"1040.861328\" xlink:href=\"#DejaVuSans-105\"/>\r\n      <use x=\"1068.644531\" xlink:href=\"#DejaVuSans-111\"/>\r\n      <use x=\"1129.826172\" xlink:href=\"#DejaVuSans-110\"/>\r\n      <use x=\"1193.205078\" xlink:href=\"#DejaVuSans-41\"/>\r\n     </g>\r\n    </g>\r\n   </g>\r\n   <g id=\"patch_305\">\r\n    <path d=\"M 53.60625 333.36 \r\nL 53.60625 7.2 \r\n\" style=\"fill:none;stroke:#000000;stroke-linecap:square;stroke-linejoin:miter;stroke-width:0.8;\"/>\r\n   </g>\r\n   <g id=\"patch_306\">\r\n    <path d=\"M 890.60625 333.36 \r\nL 890.60625 7.2 \r\n\" style=\"fill:none;stroke:#000000;stroke-linecap:square;stroke-linejoin:miter;stroke-width:0.8;\"/>\r\n   </g>\r\n   <g id=\"patch_307\">\r\n    <path d=\"M 53.60625 333.36 \r\nL 890.60625 333.36 \r\n\" style=\"fill:none;stroke:#000000;stroke-linecap:square;stroke-linejoin:miter;stroke-width:0.8;\"/>\r\n   </g>\r\n   <g id=\"patch_308\">\r\n    <path d=\"M 53.60625 7.2 \r\nL 890.60625 7.2 \r\n\" style=\"fill:none;stroke:#000000;stroke-linecap:square;stroke-linejoin:miter;stroke-width:0.8;\"/>\r\n   </g>\r\n  </g>\r\n </g>\r\n <defs>\r\n  <clipPath id=\"p7e730956e7\">\r\n   <rect height=\"326.16\" width=\"837\" x=\"53.60625\" y=\"7.2\"/>\r\n  </clipPath>\r\n </defs>\r\n</svg>\r\n",
      "image/png": "[encoded data removed]"
     },
     "metadata": {
      "needs_background": "light"
     }
    }
   ],
   "source": [
    "# feature selection\n",
    "f_selector = SelectKBest(score_func=f_regression, k=\"all\") #K, how many features do i wanna select \n",
    "\n",
    "# learn relationship from training data\n",
    "f_selector.fit(X_train, y_train)\n",
    "\n",
    "# Plot the scores for the features\n",
    "plt.figure(figsize=(15,6))\n",
    "plt.bar([i for i in range(len(f_selector.scores_))], f_selector.scores_)\n",
    "plt.xlabel(\"feature index\")\n",
    "plt.ylabel(\" f_selector (f_regression)\")\n",
    "plt.show()"
   ]
  },
  {
   "cell_type": "code",
   "execution_count": 197,
   "metadata": {},
   "outputs": [
    {
     "output_type": "stream",
     "name": "stdout",
     "text": [
      "there are 24 relevant features\n"
     ]
    }
   ],
   "source": [
    "f_count = 0\n",
    "for f in f_selector.scores_:\n",
    "    if f >= 200:\n",
    "        f_count += 1\n",
    "print(\"there are {} relevant features\".format(f_count))"
   ]
  },
  {
   "cell_type": "code",
   "execution_count": 198,
   "metadata": {},
   "outputs": [
    {
     "output_type": "execute_result",
     "data": {
      "text/plain": [
       "(1022, 24)"
      ]
     },
     "metadata": {},
     "execution_count": 198
    }
   ],
   "source": [
    "f_selector_best = SelectKBest(score_func=f_regression, k=24)\n",
    "X_new_train = f_selector_best.fit_transform(X_train,y_train)\n",
    "X_new_train.shape"
   ]
  },
  {
   "cell_type": "markdown",
   "metadata": {},
   "source": [
    "For the feature selection, I first used SelectKBest with \"all\" features as K to check which were the scores. After plot it\n",
    "I realized the were 24 features with a K score_ bigger than 200 so I reduced the features to 24. All this using regression as the score_func"
   ]
  },
  {
   "cell_type": "code",
   "execution_count": 199,
   "metadata": {},
   "outputs": [
    {
     "output_type": "display_data",
     "data": {
      "text/plain": "array([  3,   5,   6,   7,  11,  12,  15,  18,  22,  23,  25,  26, 168,\n       170, 171, 179, 183, 187, 200, 218, 230, 233, 244, 257], dtype=int64)"
     },
     "metadata": {}
    }
   ],
   "source": [
    "display(f_selector_best.get_support(indices = True)) #This are the 24 features I need"
   ]
  },
  {
   "cell_type": "code",
   "execution_count": 200,
   "metadata": {
    "scrolled": true
   },
   "outputs": [
    {
     "output_type": "execute_result",
     "data": {
      "text/plain": [
       "['OverallQual',\n",
       " 'YearBuilt',\n",
       " 'YearRemodAdd',\n",
       " 'MasVnrArea',\n",
       " 'TotalBsmtSF',\n",
       " '1stFlrSF',\n",
       " 'GrLivArea',\n",
       " 'FullBath',\n",
       " 'TotRmsAbvGrd',\n",
       " 'Fireplaces',\n",
       " 'GarageCars',\n",
       " 'GarageArea',\n",
       " 'MasVnrType_Stone',\n",
       " 'ExterQual_Fa',\n",
       " 'ExterQual_Gd',\n",
       " 'Foundation_CBlock',\n",
       " 'Foundation_Wood',\n",
       " 'BsmtQual_None',\n",
       " 'BsmtFinType1_BLQ',\n",
       " 'Heating_Wall',\n",
       " 'Electrical_SBrkr',\n",
       " 'KitchenQual_Gd',\n",
       " 'FireplaceQu_Gd',\n",
       " 'GarageFinish_RFn']"
      ]
     },
     "metadata": {},
     "execution_count": 200
    }
   ],
   "source": [
    "most_important_features = list(house_train_du.iloc[:0,f_selector_best.get_support(indices = True)].columns)\n",
    "most_important_features #I need this list to apply in the dataset to predict"
   ]
  },
  {
   "cell_type": "code",
   "execution_count": 201,
   "metadata": {},
   "outputs": [
    {
     "output_type": "execute_result",
     "data": {
      "text/plain": [
       "(438, 24)"
      ]
     },
     "metadata": {},
     "execution_count": 201
    }
   ],
   "source": [
    "X_new_test = X_test[:,f_selector_best.get_support(indices = True)]\n",
    "X_new_test.shape"
   ]
  },
  {
   "cell_type": "markdown",
   "metadata": {},
   "source": [
    "### 3. Modelling"
   ]
  },
  {
   "cell_type": "markdown",
   "metadata": {},
   "source": [
    "#### 3.1 Simple Linear Regression"
   ]
  },
  {
   "cell_type": "code",
   "execution_count": 202,
   "metadata": {},
   "outputs": [],
   "source": [
    "from sklearn.linear_model import LinearRegression\n",
    "from sklearn.metrics import mean_squared_error as MSE"
   ]
  },
  {
   "cell_type": "code",
   "execution_count": 203,
   "metadata": {},
   "outputs": [
    {
     "output_type": "stream",
     "name": "stdout",
     "text": [
      "33206.53372063101\n"
     ]
    }
   ],
   "source": [
    "linear = LinearRegression()\n",
    "linear.fit(X_new_train,y_train)\n",
    "y_pred_1 = linear.predict(X_new_test)\n",
    "print(np.sqrt(MSE(y_test,y_pred_1))) #big error "
   ]
  },
  {
   "cell_type": "code",
   "execution_count": 204,
   "metadata": {},
   "outputs": [],
   "source": [
    "X_to_predict = house_set_du[most_important_features].values"
   ]
  },
  {
   "cell_type": "code",
   "execution_count": 205,
   "metadata": {
    "scrolled": true
   },
   "outputs": [],
   "source": [
    "y_pred_linear = linear.predict(X_to_predict)\n",
    "to_report_linear = pd.DataFrame({'Id': test_house.Id, 'SalePrice': y_pred_linear})\n",
    "#to_report_linear.to_csv(\"submission_1.csv\",index = False)"
   ]
  },
  {
   "cell_type": "markdown",
   "metadata": {},
   "source": [
    "First Kaggle submission = 0.22150 the idea is to minimize it as close as possible to 0"
   ]
  },
  {
   "cell_type": "markdown",
   "metadata": {},
   "source": [
    "#### 3.2 Desicion Tree Regressor\n"
   ]
  },
  {
   "cell_type": "code",
   "execution_count": 206,
   "metadata": {},
   "outputs": [],
   "source": [
    "from sklearn.tree import DecisionTreeRegressor"
   ]
  },
  {
   "cell_type": "code",
   "execution_count": 207,
   "metadata": {},
   "outputs": [
    {
     "output_type": "stream",
     "name": "stdout",
     "text": [
      "37623.56950305571\n"
     ]
    }
   ],
   "source": [
    "d_tree = DecisionTreeRegressor(max_depth = 7, min_samples_leaf = 0.025, random_state = SEED)\n",
    "d_tree.fit(X_new_train,y_train)\n",
    "y_pred_2 = d_tree.predict(X_new_test)\n",
    "print(np.sqrt(MSE(y_test,y_pred_2)))  #the error did not reduced, but the submission had an improvement"
   ]
  },
  {
   "cell_type": "code",
   "execution_count": 208,
   "metadata": {},
   "outputs": [],
   "source": [
    "y_pred_d_tree = d_tree.predict(X_to_predict)\n",
    "to_report_d_tree = pd.DataFrame({'Id': test_house.Id, 'SalePrice': y_pred_d_tree})\n",
    "#to_report_d_tree.to_csv(\"submission_2.csv\",index = False)"
   ]
  },
  {
   "source": [
    "Second Kaggle submission = 0.20868 the idea is to minimize it as close as possible to 0"
   ],
   "cell_type": "markdown",
   "metadata": {}
  }
 ],
 "metadata": {
  "kernelspec": {
   "display_name": "Python 3",
   "language": "python",
   "name": "python3"
  },
  "language_info": {
   "codemirror_mode": {
    "name": "ipython",
    "version": 3
   },
   "file_extension": ".py",
   "mimetype": "text/x-python",
   "name": "python",
   "nbconvert_exporter": "python",
   "pygments_lexer": "ipython3",
   "version": "3.8.5-final"
  }
 },
 "nbformat": 4,
 "nbformat_minor": 4
}